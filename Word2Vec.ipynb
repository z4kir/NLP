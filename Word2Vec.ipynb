{
 "cells": [
  {
   "cell_type": "markdown",
   "metadata": {},
   "source": [
    "### Word Embeddings"
   ]
  },
  {
   "cell_type": "markdown",
   "metadata": {},
   "source": [
    "In NLP(Natural Language Processing) the process to convert the words into vectors is called  Word Embeddings."
   ]
  },
  {
   "cell_type": "markdown",
   "metadata": {},
   "source": [
    "#### Types"
   ]
  },
  {
   "cell_type": "markdown",
   "metadata": {},
   "source": [
    "1. Frequency based:\n",
    "\n",
    "    The vectors numbers decides on frequency of words occurence.TFIdf ,Bow , Glove is the example of this."
   ]
  },
  {
   "cell_type": "markdown",
   "metadata": {},
   "source": [
    "2. Prediction based:\n",
    "\n",
    "    the vectors numbers decides on the prediction of algorithm .Word2Vec is the example of this."
   ]
  },
  {
   "cell_type": "markdown",
   "metadata": {},
   "source": [
    "#### What is Word2Vec"
   ]
  },
  {
   "cell_type": "markdown",
   "metadata": {},
   "source": [
    "This is Word embedding technique in which we converts words to vectors(collection of numbers). It is used because we can't deirectly use words in Machine Learning models. It is gives the semantic meaning of the language. It convert wrods into low dimentions vectors(Dense vector) which also have less Zeros means solve the spars vectors problem and prevent from overfitting."
   ]
  },
  {
   "cell_type": "markdown",
   "metadata": {},
   "source": [
    "#### Demo"
   ]
  },
  {
   "cell_type": "markdown",
   "metadata": {},
   "source": [
    "We will use the pretrained weights fro wrod2vec that was trained on Google News corpus containing 3 billion words. This model consists of 300-dimensional vectors for 3 million words and phrases."
   ]
  },
  {
   "cell_type": "code",
   "execution_count": 16,
   "metadata": {},
   "outputs": [],
   "source": [
    "import gensim\n",
    "from gensim.models import Word2Vec,KeyedVectors"
   ]
  },
  {
   "cell_type": "code",
   "execution_count": 17,
   "metadata": {},
   "outputs": [
    {
     "name": "stdout",
     "output_type": "stream",
     "text": [
      "Requirement already satisfied: wget in c:\\python310\\lib\\site-packages (3.2)\n"
     ]
    },
    {
     "name": "stderr",
     "output_type": "stream",
     "text": [
      "WARNING: Ignoring invalid distribution -p (c:\\python310\\lib\\site-packages)\n",
      "WARNING: Ignoring invalid distribution - (c:\\python310\\lib\\site-packages)\n",
      "WARNING: Ignoring invalid distribution -p (c:\\python310\\lib\\site-packages)\n",
      "WARNING: Ignoring invalid distribution -0p (c:\\python310\\lib\\site-packages)\n",
      "WARNING: Ignoring invalid distribution -1p (c:\\python310\\lib\\site-packages)\n",
      "WARNING: Ignoring invalid distribution -2p (c:\\python310\\lib\\site-packages)\n",
      "WARNING: Ignoring invalid distribution -ip (c:\\python310\\lib\\site-packages)\n",
      "WARNING: Ignoring invalid distribution -p (c:\\python310\\lib\\site-packages)\n",
      "WARNING: Ignoring invalid distribution - (c:\\python310\\lib\\site-packages)\n",
      "WARNING: Ignoring invalid distribution -p (c:\\python310\\lib\\site-packages)\n",
      "WARNING: Ignoring invalid distribution -0p (c:\\python310\\lib\\site-packages)\n",
      "WARNING: Ignoring invalid distribution -1p (c:\\python310\\lib\\site-packages)\n",
      "WARNING: Ignoring invalid distribution -2p (c:\\python310\\lib\\site-packages)\n",
      "WARNING: Ignoring invalid distribution -ip (c:\\python310\\lib\\site-packages)\n"
     ]
    }
   ],
   "source": [
    "%pip install wget"
   ]
  },
  {
   "cell_type": "code",
   "execution_count": 18,
   "metadata": {},
   "outputs": [],
   "source": [
    "# import wget\n",
    "# filename = wget.download(\"https://s3.amazonaws.com/dl4j-distribution/GoogleNews-vectors-negative300.bin.gz\")"
   ]
  },
  {
   "cell_type": "code",
   "execution_count": 19,
   "metadata": {},
   "outputs": [],
   "source": [
    "model = KeyedVectors.load_word2vec_format('GoogleNews-vectors-negative300.bin.gz',binary=True)"
   ]
  },
  {
   "cell_type": "code",
   "execution_count": 20,
   "metadata": {},
   "outputs": [
    {
     "data": {
      "text/plain": [
       "array([-4.78515625e-02,  1.66992188e-01,  7.81250000e-02,  2.10571289e-03,\n",
       "        2.25585938e-01, -2.25585938e-01, -2.09960938e-01, -3.73535156e-02,\n",
       "       -1.85546875e-02,  1.94335938e-01, -3.00292969e-02, -1.77734375e-01,\n",
       "        5.20019531e-02,  1.33789062e-01, -1.13769531e-01,  1.10351562e-01,\n",
       "       -3.27148438e-02,  2.89916992e-03,  9.88769531e-03,  9.27734375e-02,\n",
       "       -2.19726562e-01, -2.47802734e-02, -8.59375000e-02, -2.67578125e-01,\n",
       "       -2.51464844e-02, -2.55859375e-01, -1.61132812e-01,  2.53906250e-01,\n",
       "        5.24902344e-02, -1.00097656e-02,  1.82617188e-01,  7.61718750e-02,\n",
       "       -1.60980225e-03, -3.10058594e-02, -3.32031250e-02,  1.81640625e-01,\n",
       "       -3.88183594e-02, -1.83593750e-01, -8.64257812e-02,  2.20703125e-01,\n",
       "       -7.11059570e-03,  8.60595703e-03,  1.73828125e-01, -9.27734375e-02,\n",
       "        1.25000000e-01, -1.28906250e-01, -4.85839844e-02, -1.21093750e-01,\n",
       "        8.00781250e-02,  1.05957031e-01,  1.42578125e-01,  6.78710938e-02,\n",
       "        6.29882812e-02, -2.60009766e-02,  1.12304688e-01, -3.08593750e-01,\n",
       "       -1.98364258e-03,  2.46582031e-02, -1.57226562e-01,  8.54492188e-02,\n",
       "        3.97949219e-02,  1.41601562e-01, -1.20117188e-01, -2.69775391e-02,\n",
       "        6.78710938e-02, -3.73840332e-03, -5.12695312e-02,  1.33666992e-02,\n",
       "        6.17675781e-02,  2.72216797e-02, -1.22558594e-01,  1.54296875e-01,\n",
       "       -1.24511719e-01,  8.00781250e-02, -4.49218750e-02, -9.47265625e-02,\n",
       "       -1.00585938e-01,  1.16210938e-01, -1.83593750e-01,  4.00390625e-02,\n",
       "        7.91015625e-02, -1.30859375e-01,  5.00488281e-02,  9.22851562e-02,\n",
       "       -2.77343750e-01, -1.40625000e-01, -2.69531250e-01, -7.81250000e-02,\n",
       "        1.41601562e-02,  4.34570312e-02, -2.75390625e-01, -9.76562500e-02,\n",
       "       -1.57470703e-02, -6.29425049e-05,  1.63085938e-01, -1.83593750e-01,\n",
       "       -2.05078125e-02, -1.49414062e-01,  6.05468750e-02, -1.60156250e-01,\n",
       "        6.13403320e-03, -1.65039062e-01,  2.32696533e-04, -1.13281250e-01,\n",
       "        2.29492188e-01, -3.80859375e-02,  1.26953125e-01,  2.45361328e-02,\n",
       "        1.66992188e-01,  3.01513672e-02,  1.60156250e-01,  1.56250000e-01,\n",
       "       -7.12890625e-02,  1.08886719e-01, -2.58789062e-02, -4.41894531e-02,\n",
       "        1.51367188e-01, -1.06933594e-01,  6.29882812e-02,  1.42578125e-01,\n",
       "       -3.06640625e-01,  7.47070312e-02, -3.83300781e-02, -1.48437500e-01,\n",
       "       -2.16796875e-01, -1.51367188e-01,  8.42285156e-03,  2.04101562e-01,\n",
       "        1.58203125e-01,  2.63671875e-01, -1.09863281e-01, -3.41796875e-01,\n",
       "       -1.21093750e-01,  6.59179688e-02, -5.83496094e-02,  8.10546875e-02,\n",
       "        4.93164062e-02,  4.02832031e-02,  3.02124023e-03, -4.99725342e-04,\n",
       "        8.72802734e-03, -1.43554688e-01,  3.20312500e-01,  6.03027344e-02,\n",
       "       -1.53320312e-01,  2.83203125e-01, -7.17773438e-02, -6.86645508e-03,\n",
       "       -9.22851562e-02,  2.72216797e-02,  7.66601562e-02, -6.49414062e-02,\n",
       "       -1.94335938e-01, -2.40234375e-01,  1.59179688e-01,  2.81250000e-01,\n",
       "       -1.71875000e-01, -4.02832031e-02,  1.00097656e-01, -1.30859375e-01,\n",
       "       -5.95703125e-02,  8.48388672e-03,  9.96093750e-02,  3.97949219e-02,\n",
       "        2.11181641e-02, -2.59765625e-01,  1.25000000e-01,  1.61132812e-01,\n",
       "        3.14941406e-02, -4.39453125e-02,  1.38671875e-01, -1.11328125e-01,\n",
       "       -5.20019531e-02, -8.10546875e-02,  7.71484375e-02, -8.39843750e-02,\n",
       "        9.27734375e-02, -4.37011719e-02, -1.87500000e-01, -1.35742188e-01,\n",
       "        2.32421875e-01, -1.72119141e-02, -1.27929688e-01, -1.03027344e-01,\n",
       "       -2.11914062e-01, -8.88671875e-02,  2.53906250e-01,  1.52343750e-01,\n",
       "        1.25000000e-01,  1.80664062e-01,  8.98437500e-02, -6.29882812e-02,\n",
       "        6.78710938e-02,  1.57226562e-01, -5.95703125e-02,  3.26538086e-03,\n",
       "        1.81640625e-01,  8.10546875e-02, -2.77343750e-01, -3.80859375e-02,\n",
       "       -7.56835938e-02, -1.09863281e-01, -1.08398438e-01, -1.46484375e-01,\n",
       "        1.36718750e-02, -1.67236328e-02,  5.51757812e-02, -7.27539062e-02,\n",
       "       -1.69921875e-01, -1.34765625e-01,  6.25610352e-03, -1.11328125e-01,\n",
       "       -2.24609375e-02,  1.18164062e-01, -2.42187500e-01, -1.88476562e-01,\n",
       "       -1.57226562e-01,  9.47265625e-02, -1.84570312e-01,  1.85546875e-01,\n",
       "       -1.05468750e-01, -1.71875000e-01,  2.51953125e-01, -1.49414062e-01,\n",
       "       -1.28936768e-03, -6.78710938e-02,  2.06054688e-01, -9.96093750e-02,\n",
       "       -7.42187500e-02, -1.10351562e-01,  1.42578125e-01, -3.03955078e-02,\n",
       "       -9.03320312e-02,  2.47070312e-01,  1.38854980e-03, -2.24609375e-01,\n",
       "       -1.04003906e-01,  1.06445312e-01,  1.80664062e-01, -7.47680664e-03,\n",
       "        1.25976562e-01, -5.32226562e-02, -2.57812500e-01, -8.49609375e-02,\n",
       "        4.94384766e-03,  5.17578125e-02, -1.02539062e-01,  1.44531250e-01,\n",
       "       -1.47460938e-01,  1.17675781e-01,  2.83203125e-01,  1.45507812e-01,\n",
       "       -8.78906250e-02, -9.32617188e-02,  8.00781250e-02, -1.83105469e-02,\n",
       "        3.46679688e-02, -8.54492188e-02,  1.16210938e-01,  1.50390625e-01,\n",
       "        5.49316406e-02, -2.38281250e-01,  7.27539062e-02, -5.59082031e-02,\n",
       "        5.02929688e-02,  2.13867188e-01, -1.66015625e-01,  3.83300781e-02,\n",
       "        3.11279297e-02,  2.50000000e-01, -7.12890625e-02,  2.42187500e-01,\n",
       "       -1.26953125e-01,  5.95703125e-02,  2.77343750e-01,  3.61328125e-02,\n",
       "       -1.97753906e-02, -2.22656250e-01,  5.76171875e-02,  1.45507812e-01,\n",
       "        9.81445312e-02, -2.75390625e-01,  7.22656250e-02,  1.31835938e-01,\n",
       "       -8.44726562e-02, -8.39843750e-02, -1.08398438e-01, -8.49609375e-02,\n",
       "        1.38671875e-01,  1.14257812e-01,  1.11816406e-01,  1.29882812e-01,\n",
       "       -8.69140625e-02, -2.23632812e-01,  1.13281250e-01, -8.85009766e-03,\n",
       "       -4.83398438e-02, -2.91015625e-01,  4.46777344e-02,  1.61132812e-01],\n",
       "      dtype=float32)"
      ]
     },
     "execution_count": 20,
     "metadata": {},
     "output_type": "execute_result"
    }
   ],
   "source": [
    "model['men']"
   ]
  },
  {
   "cell_type": "code",
   "execution_count": 21,
   "metadata": {},
   "outputs": [
    {
     "ename": "KeyboardInterrupt",
     "evalue": "",
     "output_type": "error",
     "traceback": [
      "\u001b[1;31m---------------------------------------------------------------------------\u001b[0m",
      "\u001b[1;31mKeyboardInterrupt\u001b[0m                         Traceback (most recent call last)",
      "Cell \u001b[1;32mIn[21], line 1\u001b[0m\n\u001b[1;32m----> 1\u001b[0m \u001b[43mmodel\u001b[49m\u001b[38;5;241;43m.\u001b[39;49m\u001b[43mmost_similar\u001b[49m\u001b[43m(\u001b[49m\u001b[38;5;124;43m'\u001b[39;49m\u001b[38;5;124;43mmen\u001b[39;49m\u001b[38;5;124;43m'\u001b[39;49m\u001b[43m)\u001b[49m\n",
      "File \u001b[1;32mc:\\Python310\\lib\\site-packages\\gensim\\models\\keyedvectors.py:823\u001b[0m, in \u001b[0;36mKeyedVectors.most_similar\u001b[1;34m(self, positive, negative, topn, clip_start, clip_end, restrict_vocab, indexer)\u001b[0m\n\u001b[0;32m    820\u001b[0m positive \u001b[38;5;241m=\u001b[39m _ensure_list(positive)\n\u001b[0;32m    821\u001b[0m negative \u001b[38;5;241m=\u001b[39m _ensure_list(negative)\n\u001b[1;32m--> 823\u001b[0m \u001b[38;5;28;43mself\u001b[39;49m\u001b[38;5;241;43m.\u001b[39;49m\u001b[43mfill_norms\u001b[49m\u001b[43m(\u001b[49m\u001b[43m)\u001b[49m\n\u001b[0;32m    824\u001b[0m clip_end \u001b[38;5;241m=\u001b[39m clip_end \u001b[38;5;129;01mor\u001b[39;00m \u001b[38;5;28mlen\u001b[39m(\u001b[38;5;28mself\u001b[39m\u001b[38;5;241m.\u001b[39mvectors)\n\u001b[0;32m    826\u001b[0m \u001b[38;5;28;01mif\u001b[39;00m restrict_vocab:\n",
      "File \u001b[1;32mc:\\Python310\\lib\\site-packages\\gensim\\models\\keyedvectors.py:708\u001b[0m, in \u001b[0;36mKeyedVectors.fill_norms\u001b[1;34m(self, force)\u001b[0m\n\u001b[0;32m    700\u001b[0m \u001b[38;5;250m\u001b[39m\u001b[38;5;124;03m\"\"\"\u001b[39;00m\n\u001b[0;32m    701\u001b[0m \u001b[38;5;124;03mEnsure per-vector norms are available.\u001b[39;00m\n\u001b[0;32m    702\u001b[0m \n\u001b[1;32m   (...)\u001b[0m\n\u001b[0;32m    705\u001b[0m \n\u001b[0;32m    706\u001b[0m \u001b[38;5;124;03m\"\"\"\u001b[39;00m\n\u001b[0;32m    707\u001b[0m \u001b[38;5;28;01mif\u001b[39;00m \u001b[38;5;28mself\u001b[39m\u001b[38;5;241m.\u001b[39mnorms \u001b[38;5;129;01mis\u001b[39;00m \u001b[38;5;28;01mNone\u001b[39;00m \u001b[38;5;129;01mor\u001b[39;00m force:\n\u001b[1;32m--> 708\u001b[0m     \u001b[38;5;28mself\u001b[39m\u001b[38;5;241m.\u001b[39mnorms \u001b[38;5;241m=\u001b[39m \u001b[43mnp\u001b[49m\u001b[38;5;241;43m.\u001b[39;49m\u001b[43mlinalg\u001b[49m\u001b[38;5;241;43m.\u001b[39;49m\u001b[43mnorm\u001b[49m\u001b[43m(\u001b[49m\u001b[38;5;28;43mself\u001b[39;49m\u001b[38;5;241;43m.\u001b[39;49m\u001b[43mvectors\u001b[49m\u001b[43m,\u001b[49m\u001b[43m \u001b[49m\u001b[43maxis\u001b[49m\u001b[38;5;241;43m=\u001b[39;49m\u001b[38;5;241;43m1\u001b[39;49m\u001b[43m)\u001b[49m\n",
      "File \u001b[1;32mc:\\Python310\\lib\\site-packages\\numpy\\linalg\\linalg.py:2583\u001b[0m, in \u001b[0;36mnorm\u001b[1;34m(x, ord, axis, keepdims)\u001b[0m\n\u001b[0;32m   2580\u001b[0m \u001b[38;5;28;01melif\u001b[39;00m \u001b[38;5;28mord\u001b[39m \u001b[38;5;129;01mis\u001b[39;00m \u001b[38;5;28;01mNone\u001b[39;00m \u001b[38;5;129;01mor\u001b[39;00m \u001b[38;5;28mord\u001b[39m \u001b[38;5;241m==\u001b[39m \u001b[38;5;241m2\u001b[39m:\n\u001b[0;32m   2581\u001b[0m     \u001b[38;5;66;03m# special case for speedup\u001b[39;00m\n\u001b[0;32m   2582\u001b[0m     s \u001b[38;5;241m=\u001b[39m (x\u001b[38;5;241m.\u001b[39mconj() \u001b[38;5;241m*\u001b[39m x)\u001b[38;5;241m.\u001b[39mreal\n\u001b[1;32m-> 2583\u001b[0m     \u001b[38;5;28;01mreturn\u001b[39;00m sqrt(\u001b[43madd\u001b[49m\u001b[38;5;241;43m.\u001b[39;49m\u001b[43mreduce\u001b[49m\u001b[43m(\u001b[49m\u001b[43ms\u001b[49m\u001b[43m,\u001b[49m\u001b[43m \u001b[49m\u001b[43maxis\u001b[49m\u001b[38;5;241;43m=\u001b[39;49m\u001b[43maxis\u001b[49m\u001b[43m,\u001b[49m\u001b[43m \u001b[49m\u001b[43mkeepdims\u001b[49m\u001b[38;5;241;43m=\u001b[39;49m\u001b[43mkeepdims\u001b[49m\u001b[43m)\u001b[49m)\n\u001b[0;32m   2584\u001b[0m \u001b[38;5;66;03m# None of the str-type keywords for ord ('fro', 'nuc')\u001b[39;00m\n\u001b[0;32m   2585\u001b[0m \u001b[38;5;66;03m# are valid for vectors\u001b[39;00m\n\u001b[0;32m   2586\u001b[0m \u001b[38;5;28;01melif\u001b[39;00m \u001b[38;5;28misinstance\u001b[39m(\u001b[38;5;28mord\u001b[39m, \u001b[38;5;28mstr\u001b[39m):\n",
      "\u001b[1;31mKeyboardInterrupt\u001b[0m: "
     ]
    }
   ],
   "source": [
    "model.most_similar('men')"
   ]
  },
  {
   "cell_type": "code",
   "execution_count": null,
   "metadata": {},
   "outputs": [
    {
     "data": {
      "text/plain": [
       "[('king', 0.8449392318725586),\n",
       " ('queen', 0.7300517559051514),\n",
       " ('monarch', 0.645466148853302),\n",
       " ('princess', 0.6156251430511475),\n",
       " ('crown_prince', 0.5818676352500916),\n",
       " ('prince', 0.5777117609977722),\n",
       " ('kings', 0.5613663792610168),\n",
       " ('sultan', 0.5376775860786438),\n",
       " ('Queen_Consort', 0.5344247817993164),\n",
       " ('queens', 0.5289887189865112)]"
      ]
     },
     "execution_count": 8,
     "metadata": {},
     "output_type": "execute_result"
    }
   ],
   "source": [
    "vec = model['king']- model['man'] +  model['woman']\n",
    "model.most_similar(vec)"
   ]
  },
  {
   "cell_type": "markdown",
   "metadata": {},
   "source": [
    "#### Intuition"
   ]
  },
  {
   "cell_type": "markdown",
   "metadata": {},
   "source": [
    "```\n",
    "Features  King   Queen  Men  Women  Monkey\n",
    "\n",
    "gender      1      0     1     0      1\n",
    "\n",
    "wealth      1      1    0.3   0.3     0\n",
    "\n",
    "power       1     0.7   0.2   0.2     0\n",
    "\n",
    "wight      0.8    0.4   0.6   0.5    0.3\n",
    "\n",
    "speak       1      1     1     1      0\n",
    "```\n",
    "\n",
    "King vec = [1,1,1,0.8,1]\n",
    "\n",
    "Queen vec = [0,1,0.7,0.4,1]\n",
    "\n",
    "Men vec=[1,0.3,0.2,0.6,1]\n",
    "\n",
    "Women vec=[0,0.3,0.2,0.5,1]\n",
    "\n",
    "opration :\n",
    "King - men + women\n",
    "\n",
    "result = [0,1,1,0.7,1]\n",
    "\n",
    "\n",
    "`\"Features is generated by Neural Network\"`\n",
    "\n"
   ]
  },
  {
   "cell_type": "markdown",
   "metadata": {},
   "source": [
    "#### Types of Word2Vec"
   ]
  },
  {
   "cell_type": "markdown",
   "metadata": {},
   "source": [
    "1. CBOW(continous bag of words)\n",
    "\n",
    "2. skip-gram"
   ]
  },
  {
   "cell_type": "markdown",
   "metadata": {},
   "source": [
    "#### 1. CBOW(continous bag of words)"
   ]
  },
  {
   "cell_type": "markdown",
   "metadata": {},
   "source": [
    "dummy-problem -->solve-->by-product-->vectors\n",
    "\n",
    "Example:\n",
    "\n",
    "\"watch campusx for data science\"\n",
    " \n",
    "considering 3 words window\n",
    "```\n",
    "     X          y\n",
    "watch,for    campusx\n",
    "campusx,data    for\n",
    "for,science    data"
   ]
  },
  {
   "cell_type": "markdown",
   "metadata": {},
   "source": [
    "#### 2. Skip-gram"
   ]
  },
  {
   "cell_type": "markdown",
   "metadata": {},
   "source": [
    "\"reverse of CBOW\"\n",
    "\n",
    "considering 3 words window\n",
    "```\n",
    "     X          y\n",
    "  campusx    watch,for\n",
    "    for      campusx,data\n",
    "    data     for,science"
   ]
  },
  {
   "cell_type": "markdown",
   "metadata": {},
   "source": [
    "**For smaller data use CBOW for larger data use Skip-gram**"
   ]
  },
  {
   "cell_type": "markdown",
   "metadata": {},
   "source": [
    "#### How to imporve model"
   ]
  },
  {
   "cell_type": "markdown",
   "metadata": {},
   "source": [
    "**increase the training data**\n",
    "\n",
    "**increase dimension of vectors**\n",
    "\n",
    "**increase window size**\n"
   ]
  },
  {
   "cell_type": "markdown",
   "metadata": {},
   "source": [
    "#### Training your own model"
   ]
  },
  {
   "cell_type": "code",
   "execution_count": null,
   "metadata": {},
   "outputs": [],
   "source": [
    "import numpy as np\n",
    "import pandas as pd\n",
    "import gensim\n",
    "import os\n",
    "from nltk import sent_tokenize\n",
    "from gensim.utils import simple_preprocess\n",
    "from nltk.corpus import stopwords\n"
   ]
  },
  {
   "cell_type": "code",
   "execution_count": 90,
   "metadata": {},
   "outputs": [],
   "source": [
    "def remove_stopwords(text):\n",
    "    new_text=[]\n",
    "    # print(len(text))\n",
    "    for word in text.split():\n",
    "        # print(word)\n",
    "        if word in stopwords.words('english'):\n",
    "            # print(\"wordsss\",word)\n",
    "            new_text.append('')\n",
    "        else:\n",
    "            new_text.append(word)\n",
    "    x = new_text[:]\n",
    "    new_text.clear()\n",
    "    return \" \".join(x)"
   ]
  },
  {
   "cell_type": "code",
   "execution_count": 91,
   "metadata": {},
   "outputs": [],
   "source": [
    "story = []\n",
    "sw_list = stopwords.words('english')\n",
    "for filename in os.listdir('GOT'):    \n",
    "    f = open(os.path.join('GOT',filename))\n",
    "    corpus = f.read()\n",
    "    # print(\"corpus \",len(corpus))\n",
    "    corpus2 = [item for item in corpus.split() if item not in sw_list]\n",
    "    corpus2 = \" \".join(corpus2)\n",
    "    # print(\"corpus2 \",len(corpus2))\n",
    "    raw_sent = sent_tokenize(corpus2)\n",
    "    # print(\"raw_sent \",len(raw_sent))\n",
    "    for sent in raw_sent:\n",
    "        story.append(simple_preprocess(sent))\n",
    "    # print(\"story \",story)\n",
    "        "
   ]
  },
  {
   "cell_type": "code",
   "execution_count": 92,
   "metadata": {},
   "outputs": [
    {
     "data": {
      "text/plain": [
       "145073"
      ]
     },
     "execution_count": 92,
     "metadata": {},
     "output_type": "execute_result"
    }
   ],
   "source": [
    "len(story)"
   ]
  },
  {
   "cell_type": "code",
   "execution_count": 93,
   "metadata": {},
   "outputs": [],
   "source": [
    "model = gensim.models.Word2Vec(window=10,min_count=2,workers=4)"
   ]
  },
  {
   "cell_type": "code",
   "execution_count": 94,
   "metadata": {},
   "outputs": [],
   "source": [
    "model.build_vocab(story)"
   ]
  },
  {
   "cell_type": "code",
   "execution_count": 95,
   "metadata": {},
   "outputs": [
    {
     "data": {
      "text/plain": [
       "(5001571, 5319310)"
      ]
     },
     "execution_count": 95,
     "metadata": {},
     "output_type": "execute_result"
    }
   ],
   "source": [
    "model.train(story,total_examples=model.corpus_count,epochs=model.epochs)"
   ]
  },
  {
   "cell_type": "code",
   "execution_count": 96,
   "metadata": {},
   "outputs": [
    {
     "data": {
      "text/plain": [
       "[('sam', 0.7004803419113159),\n",
       " ('theon', 0.6946353316307068),\n",
       " ('bran', 0.6390882134437561),\n",
       " ('ygritte', 0.6269928812980652),\n",
       " ('grenn', 0.623462438583374),\n",
       " ('cackling', 0.6158672571182251),\n",
       " ('asha', 0.613788902759552),\n",
       " ('pyp', 0.6008926630020142),\n",
       " ('ghost', 0.5975616574287415),\n",
       " ('tormund', 0.5903831720352173)]"
      ]
     },
     "execution_count": 96,
     "metadata": {},
     "output_type": "execute_result"
    }
   ],
   "source": [
    "model.wv.most_similar('jon')"
   ]
  },
  {
   "cell_type": "code",
   "execution_count": 97,
   "metadata": {},
   "outputs": [
    {
     "data": {
      "text/plain": [
       "'bronn'"
      ]
     },
     "execution_count": 97,
     "metadata": {},
     "output_type": "execute_result"
    }
   ],
   "source": [
    "model.wv.doesnt_match(['cersi','jaime','bronn','tyrion'])"
   ]
  },
  {
   "cell_type": "code",
   "execution_count": 98,
   "metadata": {},
   "outputs": [
    {
     "data": {
      "text/plain": [
       "(100,)"
      ]
     },
     "execution_count": 98,
     "metadata": {},
     "output_type": "execute_result"
    }
   ],
   "source": [
    "model.wv['king'].shape"
   ]
  },
  {
   "cell_type": "code",
   "execution_count": 99,
   "metadata": {},
   "outputs": [
    {
     "data": {
      "text/plain": [
       "0.8142935"
      ]
     },
     "execution_count": 99,
     "metadata": {},
     "output_type": "execute_result"
    }
   ],
   "source": [
    "model.wv.similarity('arya','sansa') #sisters"
   ]
  },
  {
   "cell_type": "code",
   "execution_count": 100,
   "metadata": {},
   "outputs": [
    {
     "data": {
      "text/plain": [
       "0.33707753"
      ]
     },
     "execution_count": 100,
     "metadata": {},
     "output_type": "execute_result"
    }
   ],
   "source": [
    "model.wv.similarity('sansa','jon')"
   ]
  },
  {
   "cell_type": "code",
   "execution_count": 101,
   "metadata": {},
   "outputs": [
    {
     "data": {
      "text/plain": [
       "(17452, 100)"
      ]
     },
     "execution_count": 101,
     "metadata": {},
     "output_type": "execute_result"
    }
   ],
   "source": [
    "model.wv.get_normed_vectors().shape"
   ]
  },
  {
   "cell_type": "code",
   "execution_count": 102,
   "metadata": {},
   "outputs": [],
   "source": [
    "y = model.wv.index_to_key"
   ]
  },
  {
   "cell_type": "code",
   "execution_count": 103,
   "metadata": {},
   "outputs": [
    {
     "data": {
      "text/plain": [
       "['the',\n",
       " 'he',\n",
       " 'said',\n",
       " 'lord',\n",
       " 'you',\n",
       " 'it',\n",
       " 'would',\n",
       " 'one',\n",
       " 'ser',\n",
       " 'she',\n",
       " 'him',\n",
       " 'could',\n",
       " 'man',\n",
       " 'her',\n",
       " 'that',\n",
       " 'king',\n",
       " 'men',\n",
       " 'back',\n",
       " 'and',\n",
       " 'they',\n",
       " 'well',\n",
       " 'like',\n",
       " 'jon',\n",
       " 'me',\n",
       " 'them',\n",
       " 'his',\n",
       " 'father',\n",
       " 'old',\n",
       " 'hand',\n",
       " 'even',\n",
       " 'tyrion',\n",
       " 'never',\n",
       " 'know',\n",
       " 'see',\n",
       " 'there',\n",
       " 'made',\n",
       " 'eyes',\n",
       " 'black',\n",
       " 'told',\n",
       " 'lady',\n",
       " 'we',\n",
       " 'thought',\n",
       " 'no',\n",
       " 'if',\n",
       " 'time',\n",
       " 'long',\n",
       " 'might',\n",
       " 'us',\n",
       " 'come',\n",
       " 'face',\n",
       " 'still',\n",
       " 'when',\n",
       " 'head',\n",
       " 'red',\n",
       " 'way',\n",
       " 'boy',\n",
       " 'page',\n",
       " 'but',\n",
       " 'must',\n",
       " 'queen',\n",
       " 'good',\n",
       " 'two',\n",
       " 'brother',\n",
       " 'night',\n",
       " 'little',\n",
       " 'll',\n",
       " 'took',\n",
       " 'came',\n",
       " 'though',\n",
       " 'say',\n",
       " 'now',\n",
       " 'three',\n",
       " 'what',\n",
       " 'away',\n",
       " 'dead',\n",
       " 'my',\n",
       " 'son',\n",
       " 'blood',\n",
       " 'take',\n",
       " 'go',\n",
       " 'your',\n",
       " 'half',\n",
       " 'make',\n",
       " 'this',\n",
       " 'arya',\n",
       " 'saw',\n",
       " 'all',\n",
       " 'day',\n",
       " 'white',\n",
       " 'jaime',\n",
       " 'first',\n",
       " 'look',\n",
       " 'want',\n",
       " 'much',\n",
       " 'enough',\n",
       " 'sword',\n",
       " 'tell',\n",
       " 'girl',\n",
       " 'bran',\n",
       " 'great',\n",
       " 'again',\n",
       " 'looked',\n",
       " 'left',\n",
       " 'knew',\n",
       " 'asked',\n",
       " 'gave',\n",
       " 'maester',\n",
       " 'called',\n",
       " 'wall',\n",
       " 'every',\n",
       " 'heard',\n",
       " 'sansa',\n",
       " 'let',\n",
       " 'yet',\n",
       " 'here',\n",
       " 'went',\n",
       " 'not',\n",
       " 'turned',\n",
       " 'dany',\n",
       " 'need',\n",
       " 'behind',\n",
       " 'around',\n",
       " 'woman',\n",
       " 'another',\n",
       " 'then',\n",
       " 'snow',\n",
       " 'beneath',\n",
       " 'across',\n",
       " 'knight',\n",
       " 'so',\n",
       " 'keep',\n",
       " 'do',\n",
       " 'grace',\n",
       " 'found',\n",
       " 'gold',\n",
       " 'last',\n",
       " 'cersei',\n",
       " 'castle',\n",
       " 'stark',\n",
       " 'gods',\n",
       " 'too',\n",
       " 'think',\n",
       " 'hair',\n",
       " 'many',\n",
       " 'feet',\n",
       " 'hands',\n",
       " 'stannis',\n",
       " 'mother',\n",
       " 'as',\n",
       " 'in',\n",
       " 'catelyn',\n",
       " 'robert',\n",
       " 'seemed',\n",
       " 'prince',\n",
       " 'may',\n",
       " 'ever',\n",
       " 'robb',\n",
       " 'done',\n",
       " 'find',\n",
       " 'lannister',\n",
       " 'hear',\n",
       " 'name',\n",
       " 'grey',\n",
       " 'horse',\n",
       " 'high',\n",
       " 'put',\n",
       " 'stone',\n",
       " 'wine',\n",
       " 'hard',\n",
       " 'water',\n",
       " 'fire',\n",
       " 'upon',\n",
       " 'iron',\n",
       " 'voice',\n",
       " 'gone',\n",
       " 'give',\n",
       " 'sam',\n",
       " 'seen',\n",
       " 'better',\n",
       " 'shall',\n",
       " 'ned',\n",
       " 'always',\n",
       " 'years',\n",
       " 'dark',\n",
       " 'is',\n",
       " 'place',\n",
       " 'small',\n",
       " 'cold',\n",
       " 'winterfell',\n",
       " 'hundred',\n",
       " 'how',\n",
       " 'stood',\n",
       " 'end',\n",
       " 'sister',\n",
       " 'did',\n",
       " 'once',\n",
       " 'words',\n",
       " 'sea',\n",
       " 'for',\n",
       " 'right',\n",
       " 'nothing',\n",
       " 'walls',\n",
       " 'fingers',\n",
       " 'cloak',\n",
       " 'house',\n",
       " 'young',\n",
       " 'beside',\n",
       " 'get',\n",
       " 'out',\n",
       " 'seven',\n",
       " 'mouth',\n",
       " 'watch',\n",
       " 'door',\n",
       " 're',\n",
       " 'joffrey',\n",
       " 'green',\n",
       " 'big',\n",
       " 'why',\n",
       " 'sent',\n",
       " 'on',\n",
       " 'perhaps',\n",
       " 'almost',\n",
       " 'wanted',\n",
       " 'daughter',\n",
       " 'true',\n",
       " 'leave',\n",
       " 'wind',\n",
       " 'city',\n",
       " 'light',\n",
       " 'arms',\n",
       " 'children',\n",
       " 'sweet',\n",
       " 'others',\n",
       " 'lost',\n",
       " 'was',\n",
       " 'theon',\n",
       " 'felt',\n",
       " 'side',\n",
       " 'yes',\n",
       " 'brothers',\n",
       " 'best',\n",
       " 'to',\n",
       " 'die',\n",
       " 'brought',\n",
       " 'soon',\n",
       " 'up',\n",
       " 'far',\n",
       " 'died',\n",
       " 'north',\n",
       " 'fear',\n",
       " 'child',\n",
       " 'along',\n",
       " 'brienne',\n",
       " 'word',\n",
       " 'will',\n",
       " 'taken',\n",
       " 'battle',\n",
       " 'at',\n",
       " 'help',\n",
       " 'new',\n",
       " 'tywin',\n",
       " 'lords',\n",
       " 'davos',\n",
       " 'something',\n",
       " 'mean',\n",
       " 'wife',\n",
       " 'more',\n",
       " 'some',\n",
       " 'rest',\n",
       " 'hall',\n",
       " 'kill',\n",
       " 'who',\n",
       " 'steel',\n",
       " 'strong',\n",
       " 'began',\n",
       " 'be',\n",
       " 'sound',\n",
       " 'dragon',\n",
       " 'past',\n",
       " 'life',\n",
       " 'tower',\n",
       " 'killed',\n",
       " 'arm',\n",
       " 'sons',\n",
       " 'tried',\n",
       " 'free',\n",
       " 'thing',\n",
       " 'bear',\n",
       " 'days',\n",
       " 'bloody',\n",
       " 'heart',\n",
       " 'pale',\n",
       " 'love',\n",
       " 'moment',\n",
       " 'sat',\n",
       " 'bring',\n",
       " 'bed',\n",
       " 'by',\n",
       " 'close',\n",
       " 'knights',\n",
       " 'cut',\n",
       " 'wolf',\n",
       " 'smile',\n",
       " 'death',\n",
       " 'horses',\n",
       " 'inside',\n",
       " 've',\n",
       " 'four',\n",
       " 'brown',\n",
       " 'hot',\n",
       " 'dragons',\n",
       " 'silver',\n",
       " 'part',\n",
       " 'bastard',\n",
       " 'open',\n",
       " 'thousand',\n",
       " 'landing',\n",
       " 'uncle',\n",
       " 'going',\n",
       " 'blue',\n",
       " 'captain',\n",
       " 'air',\n",
       " 'please',\n",
       " 'laughed',\n",
       " 'river',\n",
       " 'rose',\n",
       " 'sun',\n",
       " 'down',\n",
       " 'fell',\n",
       " 'war',\n",
       " 'can',\n",
       " 'golden',\n",
       " 'sleep',\n",
       " 'swords',\n",
       " 'without',\n",
       " 'renly',\n",
       " 'speak',\n",
       " 'full',\n",
       " 'certain',\n",
       " 'fool',\n",
       " 'only',\n",
       " 'beyond',\n",
       " 'feel',\n",
       " 'send',\n",
       " 'fight',\n",
       " 'tongue',\n",
       " 'got',\n",
       " 'rode',\n",
       " 'set',\n",
       " 'thick',\n",
       " 'throat',\n",
       " 'world',\n",
       " 'are',\n",
       " 'legs',\n",
       " 'deep',\n",
       " 'call',\n",
       " 'himself',\n",
       " 'honor',\n",
       " 'rock',\n",
       " 'trees',\n",
       " 'tall',\n",
       " 'table',\n",
       " 'pulled',\n",
       " 'broken',\n",
       " 'women',\n",
       " 'mormont',\n",
       " 'before',\n",
       " 'steps',\n",
       " 'things',\n",
       " 'off',\n",
       " 'next',\n",
       " 'or',\n",
       " 'hodor',\n",
       " 'heavy',\n",
       " 'burned',\n",
       " 'oh',\n",
       " 'toward',\n",
       " 'together',\n",
       " 'skin',\n",
       " 'given',\n",
       " 'since',\n",
       " 'moved',\n",
       " 'smiled',\n",
       " 'dwarf',\n",
       " 'alone',\n",
       " 'storm',\n",
       " 'raised',\n",
       " 'of',\n",
       " 'ask',\n",
       " 'ride',\n",
       " 'eye',\n",
       " 'hope',\n",
       " 'soft',\n",
       " 'reached',\n",
       " 'second',\n",
       " 'frey',\n",
       " 'remember',\n",
       " 'someone',\n",
       " 'remembered',\n",
       " 'coming',\n",
       " 'hold',\n",
       " 'meant',\n",
       " 'cannot',\n",
       " 'morning',\n",
       " 'ten',\n",
       " 'else',\n",
       " 'teeth',\n",
       " 'throne',\n",
       " 'command',\n",
       " 'fat',\n",
       " 'truth',\n",
       " 'with',\n",
       " 'walder',\n",
       " 'commander',\n",
       " 'doubt',\n",
       " 'ground',\n",
       " 'jorah',\n",
       " 'outside',\n",
       " 'cup',\n",
       " 'known',\n",
       " 'wore',\n",
       " 'ran',\n",
       " 'don',\n",
       " 'gate',\n",
       " 'room',\n",
       " 'held',\n",
       " 'closed',\n",
       " 'home',\n",
       " 'matter',\n",
       " 'wood',\n",
       " 'sky',\n",
       " 'south',\n",
       " 'have',\n",
       " 'people',\n",
       " 'wed',\n",
       " 'dozen',\n",
       " 'neck',\n",
       " 'food',\n",
       " 'riverrun',\n",
       " 'near',\n",
       " 'instead',\n",
       " 'talk',\n",
       " 'turn',\n",
       " 'none',\n",
       " 'ships',\n",
       " 'where',\n",
       " 'tyrell',\n",
       " 'moon',\n",
       " 'shadow',\n",
       " 'lips',\n",
       " 'bolton',\n",
       " 'summer',\n",
       " 'watched',\n",
       " 'times',\n",
       " 'leather',\n",
       " 'varys',\n",
       " 'shoulder',\n",
       " 'septon',\n",
       " 'warm',\n",
       " 'believe',\n",
       " 'caught',\n",
       " 'least',\n",
       " 'guards',\n",
       " 'answer',\n",
       " 'blade',\n",
       " 'god',\n",
       " 'wondered',\n",
       " 'ice',\n",
       " 'shield',\n",
       " 'barristan',\n",
       " 'mine',\n",
       " 'opened',\n",
       " 'armor',\n",
       " 'safe',\n",
       " 'six',\n",
       " 'kept',\n",
       " 'wish',\n",
       " 'return',\n",
       " 'tommen',\n",
       " 'used',\n",
       " 'other',\n",
       " 'smell',\n",
       " 'less',\n",
       " 'foot',\n",
       " 'floor',\n",
       " 'squire',\n",
       " 'eddard',\n",
       " 'empty',\n",
       " 'run',\n",
       " 'followed',\n",
       " 'friends',\n",
       " 'serve',\n",
       " 'boys',\n",
       " 'beard',\n",
       " 'cloaks',\n",
       " 'wedding',\n",
       " 'baratheon',\n",
       " 'eat',\n",
       " 'wrong',\n",
       " 'ghost',\n",
       " 'daenerys',\n",
       " 'five',\n",
       " 'hound',\n",
       " 'flesh',\n",
       " 'sight',\n",
       " 'ship',\n",
       " 'strength',\n",
       " 'returned',\n",
       " 'nose',\n",
       " 'bones',\n",
       " 'crown',\n",
       " 'yellow',\n",
       " 'chest',\n",
       " 'covered',\n",
       " 'commanded',\n",
       " 'says',\n",
       " 'petyr',\n",
       " 'their',\n",
       " 'sometimes',\n",
       " 'filled',\n",
       " 'aemon',\n",
       " 'friend',\n",
       " 'led',\n",
       " 'aye',\n",
       " 'common',\n",
       " 'fighting',\n",
       " 'after',\n",
       " 'spoke',\n",
       " 'show',\n",
       " 'flames',\n",
       " 'asha',\n",
       " 'lysa',\n",
       " 'aside',\n",
       " 'huge',\n",
       " 'crow',\n",
       " 'belly',\n",
       " 'master',\n",
       " 'seem',\n",
       " 'breath',\n",
       " 'yard',\n",
       " 'gates',\n",
       " 'waiting',\n",
       " 'within',\n",
       " 'looking',\n",
       " 'wooden',\n",
       " 'wet',\n",
       " 'herself',\n",
       " 'realm',\n",
       " 'thin',\n",
       " 'work',\n",
       " 'bad',\n",
       " 'use',\n",
       " 'promised',\n",
       " 'husband',\n",
       " 'tree',\n",
       " 'grew',\n",
       " 'later',\n",
       " 'onto',\n",
       " 'wildlings',\n",
       " 'loved',\n",
       " 'afraid',\n",
       " 'greyjoy',\n",
       " 'girls',\n",
       " 'rain',\n",
       " 'shoulders',\n",
       " 'walked',\n",
       " 'shouted',\n",
       " 'from',\n",
       " 'maid',\n",
       " 'remained',\n",
       " 'mance',\n",
       " 'guard',\n",
       " 'late',\n",
       " 'liked',\n",
       " 'meereen',\n",
       " 'littlefinger',\n",
       " 'fall',\n",
       " 'margaery',\n",
       " 'year',\n",
       " 'dog',\n",
       " 'passed',\n",
       " 'hurt',\n",
       " 'taste',\n",
       " 'balon',\n",
       " 'lay',\n",
       " 'dothraki',\n",
       " 'drew',\n",
       " 'song',\n",
       " 'spear',\n",
       " 'pushed',\n",
       " 'realized',\n",
       " 'named',\n",
       " 'sure',\n",
       " 'different',\n",
       " 'brave',\n",
       " 'whispered',\n",
       " 'reach',\n",
       " 'finally',\n",
       " 'stand',\n",
       " 'suddenly',\n",
       " 'wolves',\n",
       " 'poor',\n",
       " 'kingsguard',\n",
       " 'stay',\n",
       " 'drogo',\n",
       " 'arryn',\n",
       " 'stop',\n",
       " 'kingdoms',\n",
       " 'edmure',\n",
       " 'ears',\n",
       " 'broke',\n",
       " 'princess',\n",
       " 'burning',\n",
       " 'faces',\n",
       " 'lannisters',\n",
       " 'dream',\n",
       " 'axe',\n",
       " 'direwolf',\n",
       " 'west',\n",
       " 'heir',\n",
       " 'tears',\n",
       " 'clegane',\n",
       " 'drink',\n",
       " 'either',\n",
       " 'darkness',\n",
       " 'raven',\n",
       " 'pointed',\n",
       " 'try',\n",
       " 'hill',\n",
       " 'pain',\n",
       " 'forward',\n",
       " 'sworn',\n",
       " 'lie',\n",
       " 'khal',\n",
       " 'dagger',\n",
       " 'truly',\n",
       " 'kings',\n",
       " 'seat',\n",
       " 'grown',\n",
       " 'road',\n",
       " 'born',\n",
       " 'harrenhal',\n",
       " 'care',\n",
       " 'bronn',\n",
       " 'same',\n",
       " 'round',\n",
       " 'helm',\n",
       " 'feast',\n",
       " 'amongst',\n",
       " 'understand',\n",
       " 'meat',\n",
       " 'pycelle',\n",
       " 'quick',\n",
       " 'longer',\n",
       " 'lifted',\n",
       " 'reminded',\n",
       " 'whilst',\n",
       " 'maybe',\n",
       " 'short',\n",
       " 'mountain',\n",
       " 'had',\n",
       " 'step',\n",
       " 'rodrik',\n",
       " 'pretty',\n",
       " 'melisandre',\n",
       " 'ones',\n",
       " 'third',\n",
       " 'lands',\n",
       " 'worse',\n",
       " 'aegon',\n",
       " 'stopped',\n",
       " 'bit',\n",
       " 'sit',\n",
       " 'save',\n",
       " 'sharp',\n",
       " 'victarion',\n",
       " 'knows',\n",
       " 'whose',\n",
       " 'smoke',\n",
       " 'live',\n",
       " 'window',\n",
       " 'leg',\n",
       " 'pray',\n",
       " 'horn',\n",
       " 'westeros',\n",
       " 'younger',\n",
       " 'silk',\n",
       " 'heads',\n",
       " 'twenty',\n",
       " 'pie',\n",
       " 'slaves',\n",
       " 'septa',\n",
       " 'ago',\n",
       " 'peace',\n",
       " 'wants',\n",
       " 'low',\n",
       " 'bread',\n",
       " 'mind',\n",
       " 'hizdahr',\n",
       " 'laugh',\n",
       " 'blind',\n",
       " 'east',\n",
       " 'reek',\n",
       " 'sooner',\n",
       " 'bright',\n",
       " 'mad',\n",
       " 'towers',\n",
       " 'slain',\n",
       " 'coin',\n",
       " 'older',\n",
       " 'making',\n",
       " 'camp',\n",
       " 'own',\n",
       " 'wait',\n",
       " 'point',\n",
       " 'served',\n",
       " 'drowned',\n",
       " 'salt',\n",
       " 'narrow',\n",
       " 'walk',\n",
       " 'glanced',\n",
       " 'yours',\n",
       " 'cousin',\n",
       " 'cheeks',\n",
       " 'luwin',\n",
       " 'knife',\n",
       " 'quiet',\n",
       " 'sort',\n",
       " 'targaryen',\n",
       " 'stepped',\n",
       " 'riding',\n",
       " 'often',\n",
       " 'shook',\n",
       " 'touched',\n",
       " 'twisted',\n",
       " 'naked',\n",
       " 'loras',\n",
       " 'these',\n",
       " 'choice',\n",
       " 'forgotten',\n",
       " 'silence',\n",
       " 'fish',\n",
       " 'kevan',\n",
       " 'lion',\n",
       " 'ramsay',\n",
       " 'hung',\n",
       " 'read',\n",
       " 'gift',\n",
       " 'running',\n",
       " 'fallen',\n",
       " 'replied',\n",
       " 'large',\n",
       " 'knees',\n",
       " 'silent',\n",
       " 'fought',\n",
       " 'ahead',\n",
       " 'company',\n",
       " 'cat',\n",
       " 'rhaegar',\n",
       " 'dogs',\n",
       " 'beautiful',\n",
       " 'dawn',\n",
       " 'needs',\n",
       " 'sept',\n",
       " 'knee',\n",
       " 'dorne',\n",
       " 'pass',\n",
       " 'casterly',\n",
       " 'mud',\n",
       " 'tully',\n",
       " 'stupid',\n",
       " 'singer',\n",
       " 'body',\n",
       " 'court',\n",
       " 'gregor',\n",
       " 'age',\n",
       " 'meera',\n",
       " 'trying',\n",
       " 'top',\n",
       " 'kind',\n",
       " 'swear',\n",
       " 'does',\n",
       " 'gendry',\n",
       " 'offered',\n",
       " 'closer',\n",
       " 'clothes',\n",
       " 'leaves',\n",
       " 'whole',\n",
       " 'anything',\n",
       " 'kiss',\n",
       " 'pay',\n",
       " 'agreed',\n",
       " 'wonder',\n",
       " 'threw',\n",
       " 'whatever',\n",
       " 'answered',\n",
       " 'climbed',\n",
       " 'saying',\n",
       " 'wide',\n",
       " 'saddle',\n",
       " 'stars',\n",
       " 'comes',\n",
       " 'stones',\n",
       " 'trust',\n",
       " 'host',\n",
       " 'chain',\n",
       " 'trident',\n",
       " 'pleased',\n",
       " 'fair',\n",
       " 'yunkai',\n",
       " 'ear',\n",
       " 'insisted',\n",
       " 'dry',\n",
       " 'most',\n",
       " 'spears',\n",
       " 'hour',\n",
       " 'eight',\n",
       " 'dying',\n",
       " 'fast',\n",
       " 'ought',\n",
       " 'doors',\n",
       " 'service',\n",
       " 'carried',\n",
       " 'fist',\n",
       " 'woods',\n",
       " 'mail',\n",
       " 'council',\n",
       " 'needed',\n",
       " 'milk',\n",
       " 'crossed',\n",
       " 'fine',\n",
       " 'join',\n",
       " 'wildling',\n",
       " 'thank',\n",
       " 'quentyn',\n",
       " 'finger',\n",
       " 'those',\n",
       " 'gilly',\n",
       " 'tent',\n",
       " 'shadows',\n",
       " 'boots',\n",
       " 'land',\n",
       " 'bird',\n",
       " 'helped',\n",
       " 'win',\n",
       " 'folk',\n",
       " 'names',\n",
       " 'somehow',\n",
       " 'imp',\n",
       " 'crows',\n",
       " 'letter',\n",
       " 'winter',\n",
       " 'kissed',\n",
       " 'banners',\n",
       " 'screamed',\n",
       " 'pink',\n",
       " 'angry',\n",
       " 'frightened',\n",
       " 'learn',\n",
       " 'alive',\n",
       " 'torch',\n",
       " 'eunuch',\n",
       " 'chair',\n",
       " 'daughters',\n",
       " 'won',\n",
       " 'watching',\n",
       " 'fires',\n",
       " 'harm',\n",
       " 'dragonstone',\n",
       " 'tarly',\n",
       " 'neither',\n",
       " 'standing',\n",
       " 'easy',\n",
       " 'serving',\n",
       " 'nine',\n",
       " 'learned',\n",
       " 'question',\n",
       " 'wings',\n",
       " 'drunk',\n",
       " 'sail',\n",
       " 'myrcella',\n",
       " 'nodded',\n",
       " 'priest',\n",
       " 'sisters',\n",
       " 'bone',\n",
       " 'warned',\n",
       " 'forth',\n",
       " 'giant',\n",
       " 'harbor',\n",
       " 'field',\n",
       " 'slipped',\n",
       " 'slow',\n",
       " 'slid',\n",
       " 'dreams',\n",
       " 'falling',\n",
       " 'bronze',\n",
       " 'slowly',\n",
       " 'promise',\n",
       " 'atop',\n",
       " 'rise',\n",
       " 'line',\n",
       " 'illyrio',\n",
       " 'whore',\n",
       " 'slave',\n",
       " 'move',\n",
       " 'makes',\n",
       " 'laughter',\n",
       " 'pyke',\n",
       " 'flowers',\n",
       " 'faced',\n",
       " 'earth',\n",
       " 'grass',\n",
       " 'bay',\n",
       " 'declared',\n",
       " 'loose',\n",
       " 'twice',\n",
       " 'power',\n",
       " 'viserys',\n",
       " 'lived',\n",
       " 'front',\n",
       " 'cell',\n",
       " 'happened',\n",
       " 'play',\n",
       " 'dance',\n",
       " 'an',\n",
       " 'break',\n",
       " 'oldtown',\n",
       " 'chains',\n",
       " 'clean',\n",
       " 'surely',\n",
       " 'aerys',\n",
       " 'eyrie',\n",
       " 'unless',\n",
       " 'jeyne',\n",
       " 'claim',\n",
       " 'below',\n",
       " 'cried',\n",
       " 'fresh',\n",
       " 'tormund',\n",
       " 'laid',\n",
       " 'quite',\n",
       " 'craster',\n",
       " 'pair',\n",
       " 'sad',\n",
       " 'morrow',\n",
       " 'shouting',\n",
       " 'were',\n",
       " 'game',\n",
       " 'met',\n",
       " 'already',\n",
       " 'softly',\n",
       " 'rule',\n",
       " 'touch',\n",
       " 'afterward',\n",
       " 'sense',\n",
       " 'steward',\n",
       " 'woke',\n",
       " 'count',\n",
       " 'mounted',\n",
       " 'started',\n",
       " 'sudden',\n",
       " 'jojen',\n",
       " 'waters',\n",
       " 'hide',\n",
       " 'highgarden',\n",
       " 'captive',\n",
       " 'ravens',\n",
       " 'cheek',\n",
       " 'anyone',\n",
       " 'among',\n",
       " 'course',\n",
       " 'taking',\n",
       " 'purple',\n",
       " 'follow',\n",
       " 'means',\n",
       " 'however',\n",
       " 'noble',\n",
       " 'wench',\n",
       " 'carved',\n",
       " 'rickon',\n",
       " 'bare',\n",
       " 'grenn',\n",
       " 'waited',\n",
       " 'both',\n",
       " 'thinking',\n",
       " 'cruel',\n",
       " 'weak',\n",
       " 'vale',\n",
       " 'murdered',\n",
       " 'rising',\n",
       " 'roose',\n",
       " 'roof',\n",
       " 'hidden',\n",
       " 'eyed',\n",
       " 'arrow',\n",
       " 'forest',\n",
       " 'town',\n",
       " 'blow',\n",
       " 'hungry',\n",
       " 'voices',\n",
       " ...]"
      ]
     },
     "execution_count": 103,
     "metadata": {},
     "output_type": "execute_result"
    }
   ],
   "source": [
    "y"
   ]
  },
  {
   "cell_type": "code",
   "execution_count": 104,
   "metadata": {},
   "outputs": [],
   "source": [
    "from sklearn.decomposition import PCA"
   ]
  },
  {
   "cell_type": "code",
   "execution_count": 105,
   "metadata": {},
   "outputs": [],
   "source": [
    "pca= PCA(n_components=3)"
   ]
  },
  {
   "cell_type": "code",
   "execution_count": 106,
   "metadata": {},
   "outputs": [],
   "source": [
    "X = pca.fit_transform(model.wv.get_normed_vectors())"
   ]
  },
  {
   "cell_type": "code",
   "execution_count": 107,
   "metadata": {},
   "outputs": [
    {
     "data": {
      "text/plain": [
       "array([[-0.11822986,  0.30117705,  0.00285244],\n",
       "       [ 0.02879763, -0.11929177,  0.16696946],\n",
       "       [ 0.48693058, -0.04261335,  0.2799129 ],\n",
       "       [ 0.3842492 ,  0.54206026,  0.4089818 ],\n",
       "       [ 0.5851659 , -0.15094101,  0.05071809]], dtype=float32)"
      ]
     },
     "execution_count": 107,
     "metadata": {},
     "output_type": "execute_result"
    }
   ],
   "source": [
    "X[:5]"
   ]
  },
  {
   "cell_type": "code",
   "execution_count": 108,
   "metadata": {},
   "outputs": [
    {
     "name": "stdout",
     "output_type": "stream",
     "text": [
      "Requirement already satisfied: plotly in c:\\python310\\lib\\site-packages (5.20.0)\n",
      "Requirement already satisfied: tenacity>=6.2.0 in c:\\python310\\lib\\site-packages (from plotly) (8.2.3)\n",
      "Requirement already satisfied: packaging in c:\\python310\\lib\\site-packages (from plotly) (23.1)\n"
     ]
    },
    {
     "name": "stderr",
     "output_type": "stream",
     "text": [
      "WARNING: Ignoring invalid distribution -p (c:\\python310\\lib\\site-packages)\n",
      "WARNING: Ignoring invalid distribution - (c:\\python310\\lib\\site-packages)\n",
      "WARNING: Ignoring invalid distribution -p (c:\\python310\\lib\\site-packages)\n",
      "WARNING: Ignoring invalid distribution -0p (c:\\python310\\lib\\site-packages)\n",
      "WARNING: Ignoring invalid distribution -1p (c:\\python310\\lib\\site-packages)\n",
      "WARNING: Ignoring invalid distribution -2p (c:\\python310\\lib\\site-packages)\n",
      "WARNING: Ignoring invalid distribution -ip (c:\\python310\\lib\\site-packages)\n",
      "WARNING: Ignoring invalid distribution -p (c:\\python310\\lib\\site-packages)\n",
      "WARNING: Ignoring invalid distribution - (c:\\python310\\lib\\site-packages)\n",
      "WARNING: Ignoring invalid distribution -p (c:\\python310\\lib\\site-packages)\n",
      "WARNING: Ignoring invalid distribution -0p (c:\\python310\\lib\\site-packages)\n",
      "WARNING: Ignoring invalid distribution -1p (c:\\python310\\lib\\site-packages)\n",
      "WARNING: Ignoring invalid distribution -2p (c:\\python310\\lib\\site-packages)\n",
      "WARNING: Ignoring invalid distribution -ip (c:\\python310\\lib\\site-packages)\n"
     ]
    }
   ],
   "source": [
    "%pip install plotly"
   ]
  },
  {
   "cell_type": "code",
   "execution_count": 109,
   "metadata": {},
   "outputs": [
    {
     "data": {
      "application/vnd.plotly.v1+json": {
       "config": {
        "plotlyServerURL": "https://plot.ly"
       },
       "data": [
        {
         "hovertemplate": "color=the<br>0=%{x}<br>1=%{y}<br>2=%{z}<extra></extra>",
         "legendgroup": "the",
         "marker": {
          "color": "#636efa",
          "symbol": "circle"
         },
         "mode": "markers",
         "name": "the",
         "scene": "scene",
         "showlegend": true,
         "type": "scatter3d",
         "x": [
          -0.11822985857725143
         ],
         "y": [
          0.301177054643631
         ],
         "z": [
          0.0028524419758468866
         ]
        },
        {
         "hovertemplate": "color=he<br>0=%{x}<br>1=%{y}<br>2=%{z}<extra></extra>",
         "legendgroup": "he",
         "marker": {
          "color": "#EF553B",
          "symbol": "circle"
         },
         "mode": "markers",
         "name": "he",
         "scene": "scene",
         "showlegend": true,
         "type": "scatter3d",
         "x": [
          0.028797628358006477
         ],
         "y": [
          -0.1192917749285698
         ],
         "z": [
          0.16696946322917938
         ]
        },
        {
         "hovertemplate": "color=said<br>0=%{x}<br>1=%{y}<br>2=%{z}<extra></extra>",
         "legendgroup": "said",
         "marker": {
          "color": "#00cc96",
          "symbol": "circle"
         },
         "mode": "markers",
         "name": "said",
         "scene": "scene",
         "showlegend": true,
         "type": "scatter3d",
         "x": [
          0.48693057894706726
         ],
         "y": [
          -0.042613349854946136
         ],
         "z": [
          0.27991288900375366
         ]
        },
        {
         "hovertemplate": "color=lord<br>0=%{x}<br>1=%{y}<br>2=%{z}<extra></extra>",
         "legendgroup": "lord",
         "marker": {
          "color": "#ab63fa",
          "symbol": "circle"
         },
         "mode": "markers",
         "name": "lord",
         "scene": "scene",
         "showlegend": true,
         "type": "scatter3d",
         "x": [
          0.384249210357666
         ],
         "y": [
          0.5420602560043335
         ],
         "z": [
          0.4089818000793457
         ]
        },
        {
         "hovertemplate": "color=you<br>0=%{x}<br>1=%{y}<br>2=%{z}<extra></extra>",
         "legendgroup": "you",
         "marker": {
          "color": "#FFA15A",
          "symbol": "circle"
         },
         "mode": "markers",
         "name": "you",
         "scene": "scene",
         "showlegend": true,
         "type": "scatter3d",
         "x": [
          0.5851659178733826
         ],
         "y": [
          -0.15094101428985596
         ],
         "z": [
          0.05071808770298958
         ]
        },
        {
         "hovertemplate": "color=it<br>0=%{x}<br>1=%{y}<br>2=%{z}<extra></extra>",
         "legendgroup": "it",
         "marker": {
          "color": "#19d3f3",
          "symbol": "circle"
         },
         "mode": "markers",
         "name": "it",
         "scene": "scene",
         "showlegend": true,
         "type": "scatter3d",
         "x": [
          0.19587011635303497
         ],
         "y": [
          -0.2726326286792755
         ],
         "z": [
          -0.12561500072479248
         ]
        },
        {
         "hovertemplate": "color=would<br>0=%{x}<br>1=%{y}<br>2=%{z}<extra></extra>",
         "legendgroup": "would",
         "marker": {
          "color": "#FF6692",
          "symbol": "circle"
         },
         "mode": "markers",
         "name": "would",
         "scene": "scene",
         "showlegend": true,
         "type": "scatter3d",
         "x": [
          0.4510868489742279
         ],
         "y": [
          -0.05950883403420448
         ],
         "z": [
          -0.14643295109272003
         ]
        },
        {
         "hovertemplate": "color=one<br>0=%{x}<br>1=%{y}<br>2=%{z}<extra></extra>",
         "legendgroup": "one",
         "marker": {
          "color": "#B6E880",
          "symbol": "circle"
         },
         "mode": "markers",
         "name": "one",
         "scene": "scene",
         "showlegend": true,
         "type": "scatter3d",
         "x": [
          0.008280023001134396
         ],
         "y": [
          0.14700952172279358
         ],
         "z": [
          0.060394756495952606
         ]
        },
        {
         "hovertemplate": "color=ser<br>0=%{x}<br>1=%{y}<br>2=%{z}<extra></extra>",
         "legendgroup": "ser",
         "marker": {
          "color": "#FF97FF",
          "symbol": "circle"
         },
         "mode": "markers",
         "name": "ser",
         "scene": "scene",
         "showlegend": true,
         "type": "scatter3d",
         "x": [
          0.2747870683670044
         ],
         "y": [
          0.5078358054161072
         ],
         "z": [
          0.520263135433197
         ]
        },
        {
         "hovertemplate": "color=she<br>0=%{x}<br>1=%{y}<br>2=%{z}<extra></extra>",
         "legendgroup": "she",
         "marker": {
          "color": "#FECB52",
          "symbol": "circle"
         },
         "mode": "markers",
         "name": "she",
         "scene": "scene",
         "showlegend": true,
         "type": "scatter3d",
         "x": [
          0.0033852921333163977
         ],
         "y": [
          -0.23284311592578888
         ],
         "z": [
          0.1716487556695938
         ]
        },
        {
         "hovertemplate": "color=him<br>0=%{x}<br>1=%{y}<br>2=%{z}<extra></extra>",
         "legendgroup": "him",
         "marker": {
          "color": "#636efa",
          "symbol": "circle"
         },
         "mode": "markers",
         "name": "him",
         "scene": "scene",
         "showlegend": true,
         "type": "scatter3d",
         "x": [
          0.13633887469768524
         ],
         "y": [
          -0.128594309091568
         ],
         "z": [
          0.23089131712913513
         ]
        },
        {
         "hovertemplate": "color=could<br>0=%{x}<br>1=%{y}<br>2=%{z}<extra></extra>",
         "legendgroup": "could",
         "marker": {
          "color": "#EF553B",
          "symbol": "circle"
         },
         "mode": "markers",
         "name": "could",
         "scene": "scene",
         "showlegend": true,
         "type": "scatter3d",
         "x": [
          0.021091977134346962
         ],
         "y": [
          -0.12983036041259766
         ],
         "z": [
          -0.14514625072479248
         ]
        },
        {
         "hovertemplate": "color=man<br>0=%{x}<br>1=%{y}<br>2=%{z}<extra></extra>",
         "legendgroup": "man",
         "marker": {
          "color": "#00cc96",
          "symbol": "circle"
         },
         "mode": "markers",
         "name": "man",
         "scene": "scene",
         "showlegend": true,
         "type": "scatter3d",
         "x": [
          0.08053326606750488
         ],
         "y": [
          0.09281359612941742
         ],
         "z": [
          0.20179107785224915
         ]
        },
        {
         "hovertemplate": "color=her<br>0=%{x}<br>1=%{y}<br>2=%{z}<extra></extra>",
         "legendgroup": "her",
         "marker": {
          "color": "#ab63fa",
          "symbol": "circle"
         },
         "mode": "markers",
         "name": "her",
         "scene": "scene",
         "showlegend": true,
         "type": "scatter3d",
         "x": [
          0.06016691401600838
         ],
         "y": [
          -0.1404247283935547
         ],
         "z": [
          0.28821420669555664
         ]
        },
        {
         "hovertemplate": "color=that<br>0=%{x}<br>1=%{y}<br>2=%{z}<extra></extra>",
         "legendgroup": "that",
         "marker": {
          "color": "#FFA15A",
          "symbol": "circle"
         },
         "mode": "markers",
         "name": "that",
         "scene": "scene",
         "showlegend": true,
         "type": "scatter3d",
         "x": [
          0.592517614364624
         ],
         "y": [
          -0.1921350508928299
         ],
         "z": [
          0.07147492468357086
         ]
        },
        {
         "hovertemplate": "color=king<br>0=%{x}<br>1=%{y}<br>2=%{z}<extra></extra>",
         "legendgroup": "king",
         "marker": {
          "color": "#19d3f3",
          "symbol": "circle"
         },
         "mode": "markers",
         "name": "king",
         "scene": "scene",
         "showlegend": true,
         "type": "scatter3d",
         "x": [
          0.38719576597213745
         ],
         "y": [
          0.4842952489852905
         ],
         "z": [
          0.20347976684570312
         ]
        },
        {
         "hovertemplate": "color=men<br>0=%{x}<br>1=%{y}<br>2=%{z}<extra></extra>",
         "legendgroup": "men",
         "marker": {
          "color": "#FF6692",
          "symbol": "circle"
         },
         "mode": "markers",
         "name": "men",
         "scene": "scene",
         "showlegend": true,
         "type": "scatter3d",
         "x": [
          0.072573222219944
         ],
         "y": [
          0.4634599983692169
         ],
         "z": [
          -0.26636406779289246
         ]
        },
        {
         "hovertemplate": "color=back<br>0=%{x}<br>1=%{y}<br>2=%{z}<extra></extra>",
         "legendgroup": "back",
         "marker": {
          "color": "#B6E880",
          "symbol": "circle"
         },
         "mode": "markers",
         "name": "back",
         "scene": "scene",
         "showlegend": true,
         "type": "scatter3d",
         "x": [
          -0.21137015521526337
         ],
         "y": [
          0.014042726717889309
         ],
         "z": [
          0.12090181559324265
         ]
        },
        {
         "hovertemplate": "color=and<br>0=%{x}<br>1=%{y}<br>2=%{z}<extra></extra>",
         "legendgroup": "and",
         "marker": {
          "color": "#FF97FF",
          "symbol": "circle"
         },
         "mode": "markers",
         "name": "and",
         "scene": "scene",
         "showlegend": true,
         "type": "scatter3d",
         "x": [
          0.4064366817474365
         ],
         "y": [
          0.2975000739097595
         ],
         "z": [
          -0.06497474014759064
         ]
        },
        {
         "hovertemplate": "color=they<br>0=%{x}<br>1=%{y}<br>2=%{z}<extra></extra>",
         "legendgroup": "they",
         "marker": {
          "color": "#FECB52",
          "symbol": "circle"
         },
         "mode": "markers",
         "name": "they",
         "scene": "scene",
         "showlegend": true,
         "type": "scatter3d",
         "x": [
          -0.01739644818007946
         ],
         "y": [
          0.09507030248641968
         ],
         "z": [
          -0.31739044189453125
         ]
        },
        {
         "hovertemplate": "color=well<br>0=%{x}<br>1=%{y}<br>2=%{z}<extra></extra>",
         "legendgroup": "well",
         "marker": {
          "color": "#636efa",
          "symbol": "circle"
         },
         "mode": "markers",
         "name": "well",
         "scene": "scene",
         "showlegend": true,
         "type": "scatter3d",
         "x": [
          0.43680673837661743
         ],
         "y": [
          0.2051975131034851
         ],
         "z": [
          -0.0660507008433342
         ]
        },
        {
         "hovertemplate": "color=like<br>0=%{x}<br>1=%{y}<br>2=%{z}<extra></extra>",
         "legendgroup": "like",
         "marker": {
          "color": "#EF553B",
          "symbol": "circle"
         },
         "mode": "markers",
         "name": "like",
         "scene": "scene",
         "showlegend": true,
         "type": "scatter3d",
         "x": [
          -0.2157684564590454
         ],
         "y": [
          -0.12320330739021301
         ],
         "z": [
          -0.12545037269592285
         ]
        },
        {
         "hovertemplate": "color=jon<br>0=%{x}<br>1=%{y}<br>2=%{z}<extra></extra>",
         "legendgroup": "jon",
         "marker": {
          "color": "#00cc96",
          "symbol": "circle"
         },
         "mode": "markers",
         "name": "jon",
         "scene": "scene",
         "showlegend": true,
         "type": "scatter3d",
         "x": [
          0.005000569391995668
         ],
         "y": [
          0.0070050982758402824
         ],
         "z": [
          0.18506953120231628
         ]
        },
        {
         "hovertemplate": "color=me<br>0=%{x}<br>1=%{y}<br>2=%{z}<extra></extra>",
         "legendgroup": "me",
         "marker": {
          "color": "#ab63fa",
          "symbol": "circle"
         },
         "mode": "markers",
         "name": "me",
         "scene": "scene",
         "showlegend": true,
         "type": "scatter3d",
         "x": [
          0.6086570620536804
         ],
         "y": [
          -0.19788144528865814
         ],
         "z": [
          0.11469291895627975
         ]
        },
        {
         "hovertemplate": "color=them<br>0=%{x}<br>1=%{y}<br>2=%{z}<extra></extra>",
         "legendgroup": "them",
         "marker": {
          "color": "#FFA15A",
          "symbol": "circle"
         },
         "mode": "markers",
         "name": "them",
         "scene": "scene",
         "showlegend": true,
         "type": "scatter3d",
         "x": [
          -0.052498236298561096
         ],
         "y": [
          0.06280776113271713
         ],
         "z": [
          -0.3016631305217743
         ]
        },
        {
         "hovertemplate": "color=his<br>0=%{x}<br>1=%{y}<br>2=%{z}<extra></extra>",
         "legendgroup": "his",
         "marker": {
          "color": "#19d3f3",
          "symbol": "circle"
         },
         "mode": "markers",
         "name": "his",
         "scene": "scene",
         "showlegend": true,
         "type": "scatter3d",
         "x": [
          0.02041596546769142
         ],
         "y": [
          0.3135065734386444
         ],
         "z": [
          0.426230251789093
         ]
        },
        {
         "hovertemplate": "color=father<br>0=%{x}<br>1=%{y}<br>2=%{z}<extra></extra>",
         "legendgroup": "father",
         "marker": {
          "color": "#FF6692",
          "symbol": "circle"
         },
         "mode": "markers",
         "name": "father",
         "scene": "scene",
         "showlegend": true,
         "type": "scatter3d",
         "x": [
          0.5335513353347778
         ],
         "y": [
          0.2954789400100708
         ],
         "z": [
          0.2840614914894104
         ]
        },
        {
         "hovertemplate": "color=old<br>0=%{x}<br>1=%{y}<br>2=%{z}<extra></extra>",
         "legendgroup": "old",
         "marker": {
          "color": "#B6E880",
          "symbol": "circle"
         },
         "mode": "markers",
         "name": "old",
         "scene": "scene",
         "showlegend": true,
         "type": "scatter3d",
         "x": [
          0.03195349499583244
         ],
         "y": [
          0.2703605890274048
         ],
         "z": [
          0.06902746111154556
         ]
        },
        {
         "hovertemplate": "color=hand<br>0=%{x}<br>1=%{y}<br>2=%{z}<extra></extra>",
         "legendgroup": "hand",
         "marker": {
          "color": "#FF97FF",
          "symbol": "circle"
         },
         "mode": "markers",
         "name": "hand",
         "scene": "scene",
         "showlegend": true,
         "type": "scatter3d",
         "x": [
          -0.07069044560194016
         ],
         "y": [
          0.04603724554181099
         ],
         "z": [
          0.48096412420272827
         ]
        },
        {
         "hovertemplate": "color=even<br>0=%{x}<br>1=%{y}<br>2=%{z}<extra></extra>",
         "legendgroup": "even",
         "marker": {
          "color": "#FECB52",
          "symbol": "circle"
         },
         "mode": "markers",
         "name": "even",
         "scene": "scene",
         "showlegend": true,
         "type": "scatter3d",
         "x": [
          0.06985632330179214
         ],
         "y": [
          -0.020359795540571213
         ],
         "z": [
          -0.18074074387550354
         ]
        },
        {
         "hovertemplate": "color=tyrion<br>0=%{x}<br>1=%{y}<br>2=%{z}<extra></extra>",
         "legendgroup": "tyrion",
         "marker": {
          "color": "#636efa",
          "symbol": "circle"
         },
         "mode": "markers",
         "name": "tyrion",
         "scene": "scene",
         "showlegend": true,
         "type": "scatter3d",
         "x": [
          0.09631495922803879
         ],
         "y": [
          -0.1286804974079132
         ],
         "z": [
          0.32008424401283264
         ]
        },
        {
         "hovertemplate": "color=never<br>0=%{x}<br>1=%{y}<br>2=%{z}<extra></extra>",
         "legendgroup": "never",
         "marker": {
          "color": "#EF553B",
          "symbol": "circle"
         },
         "mode": "markers",
         "name": "never",
         "scene": "scene",
         "showlegend": true,
         "type": "scatter3d",
         "x": [
          0.4240609407424927
         ],
         "y": [
          -0.15478214621543884
         ],
         "z": [
          -0.0008160510333254933
         ]
        },
        {
         "hovertemplate": "color=know<br>0=%{x}<br>1=%{y}<br>2=%{z}<extra></extra>",
         "legendgroup": "know",
         "marker": {
          "color": "#00cc96",
          "symbol": "circle"
         },
         "mode": "markers",
         "name": "know",
         "scene": "scene",
         "showlegend": true,
         "type": "scatter3d",
         "x": [
          0.6723524928092957
         ],
         "y": [
          -0.07626231759786606
         ],
         "z": [
          -0.12799687683582306
         ]
        },
        {
         "hovertemplate": "color=see<br>0=%{x}<br>1=%{y}<br>2=%{z}<extra></extra>",
         "legendgroup": "see",
         "marker": {
          "color": "#ab63fa",
          "symbol": "circle"
         },
         "mode": "markers",
         "name": "see",
         "scene": "scene",
         "showlegend": true,
         "type": "scatter3d",
         "x": [
          0.07295851409435272
         ],
         "y": [
          -0.06546702235937119
         ],
         "z": [
          -0.04945166036486626
         ]
        },
        {
         "hovertemplate": "color=there<br>0=%{x}<br>1=%{y}<br>2=%{z}<extra></extra>",
         "legendgroup": "there",
         "marker": {
          "color": "#FFA15A",
          "symbol": "circle"
         },
         "mode": "markers",
         "name": "there",
         "scene": "scene",
         "showlegend": true,
         "type": "scatter3d",
         "x": [
          0.08072719722986221
         ],
         "y": [
          0.006158795673400164
         ],
         "z": [
          -0.44296061992645264
         ]
        },
        {
         "hovertemplate": "color=made<br>0=%{x}<br>1=%{y}<br>2=%{z}<extra></extra>",
         "legendgroup": "made",
         "marker": {
          "color": "#19d3f3",
          "symbol": "circle"
         },
         "mode": "markers",
         "name": "made",
         "scene": "scene",
         "showlegend": true,
         "type": "scatter3d",
         "x": [
          -0.06283502280712128
         ],
         "y": [
          -0.13028837740421295
         ],
         "z": [
          0.02358504757285118
         ]
        },
        {
         "hovertemplate": "color=eyes<br>0=%{x}<br>1=%{y}<br>2=%{z}<extra></extra>",
         "legendgroup": "eyes",
         "marker": {
          "color": "#FF6692",
          "symbol": "circle"
         },
         "mode": "markers",
         "name": "eyes",
         "scene": "scene",
         "showlegend": true,
         "type": "scatter3d",
         "x": [
          -0.23340080678462982
         ],
         "y": [
          -0.17595504224300385
         ],
         "z": [
          0.29625722765922546
         ]
        },
        {
         "hovertemplate": "color=black<br>0=%{x}<br>1=%{y}<br>2=%{z}<extra></extra>",
         "legendgroup": "black",
         "marker": {
          "color": "#B6E880",
          "symbol": "circle"
         },
         "mode": "markers",
         "name": "black",
         "scene": "scene",
         "showlegend": true,
         "type": "scatter3d",
         "x": [
          -0.42278197407722473
         ],
         "y": [
          0.4230194091796875
         ],
         "z": [
          0.10789667069911957
         ]
        },
        {
         "hovertemplate": "color=told<br>0=%{x}<br>1=%{y}<br>2=%{z}<extra></extra>",
         "legendgroup": "told",
         "marker": {
          "color": "#FF97FF",
          "symbol": "circle"
         },
         "mode": "markers",
         "name": "told",
         "scene": "scene",
         "showlegend": true,
         "type": "scatter3d",
         "x": [
          0.46473294496536255
         ],
         "y": [
          -0.05263705179095268
         ],
         "z": [
          0.07598449289798737
         ]
        },
        {
         "hovertemplate": "color=lady<br>0=%{x}<br>1=%{y}<br>2=%{z}<extra></extra>",
         "legendgroup": "lady",
         "marker": {
          "color": "#FECB52",
          "symbol": "circle"
         },
         "mode": "markers",
         "name": "lady",
         "scene": "scene",
         "showlegend": true,
         "type": "scatter3d",
         "x": [
          0.4218100607395172
         ],
         "y": [
          0.3778172731399536
         ],
         "z": [
          0.5536817908287048
         ]
        },
        {
         "hovertemplate": "color=we<br>0=%{x}<br>1=%{y}<br>2=%{z}<extra></extra>",
         "legendgroup": "we",
         "marker": {
          "color": "#636efa",
          "symbol": "circle"
         },
         "mode": "markers",
         "name": "we",
         "scene": "scene",
         "showlegend": true,
         "type": "scatter3d",
         "x": [
          0.30225229263305664
         ],
         "y": [
          0.13021691143512726
         ],
         "z": [
          -0.30746209621429443
         ]
        },
        {
         "hovertemplate": "color=thought<br>0=%{x}<br>1=%{y}<br>2=%{z}<extra></extra>",
         "legendgroup": "thought",
         "marker": {
          "color": "#EF553B",
          "symbol": "circle"
         },
         "mode": "markers",
         "name": "thought",
         "scene": "scene",
         "showlegend": true,
         "type": "scatter3d",
         "x": [
          0.3191565275192261
         ],
         "y": [
          -0.3169103264808655
         ],
         "z": [
          0.04328203573822975
         ]
        },
        {
         "hovertemplate": "color=no<br>0=%{x}<br>1=%{y}<br>2=%{z}<extra></extra>",
         "legendgroup": "no",
         "marker": {
          "color": "#00cc96",
          "symbol": "circle"
         },
         "mode": "markers",
         "name": "no",
         "scene": "scene",
         "showlegend": true,
         "type": "scatter3d",
         "x": [
          0.47609904408454895
         ],
         "y": [
          -0.1500752717256546
         ],
         "z": [
          0.06853554397821426
         ]
        },
        {
         "hovertemplate": "color=if<br>0=%{x}<br>1=%{y}<br>2=%{z}<extra></extra>",
         "legendgroup": "if",
         "marker": {
          "color": "#ab63fa",
          "symbol": "circle"
         },
         "mode": "markers",
         "name": "if",
         "scene": "scene",
         "showlegend": true,
         "type": "scatter3d",
         "x": [
          0.5952019691467285
         ],
         "y": [
          -0.025486720725893974
         ],
         "z": [
          -0.15340350568294525
         ]
        },
        {
         "hovertemplate": "color=time<br>0=%{x}<br>1=%{y}<br>2=%{z}<extra></extra>",
         "legendgroup": "time",
         "marker": {
          "color": "#FFA15A",
          "symbol": "circle"
         },
         "mode": "markers",
         "name": "time",
         "scene": "scene",
         "showlegend": true,
         "type": "scatter3d",
         "x": [
          0.03604267165064812
         ],
         "y": [
          -0.04508417099714279
         ],
         "z": [
          -0.05378636717796326
         ]
        },
        {
         "hovertemplate": "color=long<br>0=%{x}<br>1=%{y}<br>2=%{z}<extra></extra>",
         "legendgroup": "long",
         "marker": {
          "color": "#19d3f3",
          "symbol": "circle"
         },
         "mode": "markers",
         "name": "long",
         "scene": "scene",
         "showlegend": true,
         "type": "scatter3d",
         "x": [
          -0.24589680135250092
         ],
         "y": [
          0.20902837812900543
         ],
         "z": [
          -0.10128267109394073
         ]
        },
        {
         "hovertemplate": "color=might<br>0=%{x}<br>1=%{y}<br>2=%{z}<extra></extra>",
         "legendgroup": "might",
         "marker": {
          "color": "#FF6692",
          "symbol": "circle"
         },
         "mode": "markers",
         "name": "might",
         "scene": "scene",
         "showlegend": true,
         "type": "scatter3d",
         "x": [
          0.5089042782783508
         ],
         "y": [
          -0.045649293810129166
         ],
         "z": [
          -0.10418637841939926
         ]
        },
        {
         "hovertemplate": "color=us<br>0=%{x}<br>1=%{y}<br>2=%{z}<extra></extra>",
         "legendgroup": "us",
         "marker": {
          "color": "#B6E880",
          "symbol": "circle"
         },
         "mode": "markers",
         "name": "us",
         "scene": "scene",
         "showlegend": true,
         "type": "scatter3d",
         "x": [
          0.5390603542327881
         ],
         "y": [
          0.19396379590034485
         ],
         "z": [
          -0.2904004454612732
         ]
        },
        {
         "hovertemplate": "color=come<br>0=%{x}<br>1=%{y}<br>2=%{z}<extra></extra>",
         "legendgroup": "come",
         "marker": {
          "color": "#FF97FF",
          "symbol": "circle"
         },
         "mode": "markers",
         "name": "come",
         "scene": "scene",
         "showlegend": true,
         "type": "scatter3d",
         "x": [
          0.41407573223114014
         ],
         "y": [
          0.0728069543838501
         ],
         "z": [
          -0.3083060085773468
         ]
        },
        {
         "hovertemplate": "color=face<br>0=%{x}<br>1=%{y}<br>2=%{z}<extra></extra>",
         "legendgroup": "face",
         "marker": {
          "color": "#FECB52",
          "symbol": "circle"
         },
         "mode": "markers",
         "name": "face",
         "scene": "scene",
         "showlegend": true,
         "type": "scatter3d",
         "x": [
          -0.31042104959487915
         ],
         "y": [
          -0.2353801131248474
         ],
         "z": [
          0.4634040296077728
         ]
        },
        {
         "hovertemplate": "color=still<br>0=%{x}<br>1=%{y}<br>2=%{z}<extra></extra>",
         "legendgroup": "still",
         "marker": {
          "color": "#636efa",
          "symbol": "circle"
         },
         "mode": "markers",
         "name": "still",
         "scene": "scene",
         "showlegend": true,
         "type": "scatter3d",
         "x": [
          -0.13015243411064148
         ],
         "y": [
          -0.003985482268035412
         ],
         "z": [
          -0.2074292004108429
         ]
        },
        {
         "hovertemplate": "color=when<br>0=%{x}<br>1=%{y}<br>2=%{z}<extra></extra>",
         "legendgroup": "when",
         "marker": {
          "color": "#EF553B",
          "symbol": "circle"
         },
         "mode": "markers",
         "name": "when",
         "scene": "scene",
         "showlegend": true,
         "type": "scatter3d",
         "x": [
          -0.037864476442337036
         ],
         "y": [
          0.05048874393105507
         ],
         "z": [
          0.2475065439939499
         ]
        },
        {
         "hovertemplate": "color=head<br>0=%{x}<br>1=%{y}<br>2=%{z}<extra></extra>",
         "legendgroup": "head",
         "marker": {
          "color": "#00cc96",
          "symbol": "circle"
         },
         "mode": "markers",
         "name": "head",
         "scene": "scene",
         "showlegend": true,
         "type": "scatter3d",
         "x": [
          -0.29730916023254395
         ],
         "y": [
          -0.056700631976127625
         ],
         "z": [
          0.5611346960067749
         ]
        },
        {
         "hovertemplate": "color=red<br>0=%{x}<br>1=%{y}<br>2=%{z}<extra></extra>",
         "legendgroup": "red",
         "marker": {
          "color": "#ab63fa",
          "symbol": "circle"
         },
         "mode": "markers",
         "name": "red",
         "scene": "scene",
         "showlegend": true,
         "type": "scatter3d",
         "x": [
          -0.3305923640727997
         ],
         "y": [
          0.3848207890987396
         ],
         "z": [
          0.2574954330921173
         ]
        },
        {
         "hovertemplate": "color=way<br>0=%{x}<br>1=%{y}<br>2=%{z}<extra></extra>",
         "legendgroup": "way",
         "marker": {
          "color": "#FFA15A",
          "symbol": "circle"
         },
         "mode": "markers",
         "name": "way",
         "scene": "scene",
         "showlegend": true,
         "type": "scatter3d",
         "x": [
          -0.09205576032400131
         ],
         "y": [
          -0.08288708329200745
         ],
         "z": [
          -0.2224961221218109
         ]
        },
        {
         "hovertemplate": "color=boy<br>0=%{x}<br>1=%{y}<br>2=%{z}<extra></extra>",
         "legendgroup": "boy",
         "marker": {
          "color": "#19d3f3",
          "symbol": "circle"
         },
         "mode": "markers",
         "name": "boy",
         "scene": "scene",
         "showlegend": true,
         "type": "scatter3d",
         "x": [
          0.31394463777542114
         ],
         "y": [
          0.2152860164642334
         ],
         "z": [
          0.49106284976005554
         ]
        },
        {
         "hovertemplate": "color=page<br>0=%{x}<br>1=%{y}<br>2=%{z}<extra></extra>",
         "legendgroup": "page",
         "marker": {
          "color": "#FF6692",
          "symbol": "circle"
         },
         "mode": "markers",
         "name": "page",
         "scene": "scene",
         "showlegend": true,
         "type": "scatter3d",
         "x": [
          0.18370051681995392
         ],
         "y": [
          0.2134493589401245
         ],
         "z": [
          0.4133569300174713
         ]
        },
        {
         "hovertemplate": "color=but<br>0=%{x}<br>1=%{y}<br>2=%{z}<extra></extra>",
         "legendgroup": "but",
         "marker": {
          "color": "#B6E880",
          "symbol": "circle"
         },
         "mode": "markers",
         "name": "but",
         "scene": "scene",
         "showlegend": true,
         "type": "scatter3d",
         "x": [
          0.5974991321563721
         ],
         "y": [
          -0.023577367886900902
         ],
         "z": [
          -0.03079117462038994
         ]
        },
        {
         "hovertemplate": "color=must<br>0=%{x}<br>1=%{y}<br>2=%{z}<extra></extra>",
         "legendgroup": "must",
         "marker": {
          "color": "#FF97FF",
          "symbol": "circle"
         },
         "mode": "markers",
         "name": "must",
         "scene": "scene",
         "showlegend": true,
         "type": "scatter3d",
         "x": [
          0.650730311870575
         ],
         "y": [
          0.01781565323472023
         ],
         "z": [
          -0.14650042355060577
         ]
        },
        {
         "hovertemplate": "color=queen<br>0=%{x}<br>1=%{y}<br>2=%{z}<extra></extra>",
         "legendgroup": "queen",
         "marker": {
          "color": "#FECB52",
          "symbol": "circle"
         },
         "mode": "markers",
         "name": "queen",
         "scene": "scene",
         "showlegend": true,
         "type": "scatter3d",
         "x": [
          0.478950560092926
         ],
         "y": [
          0.3181620240211487
         ],
         "z": [
          0.2921653687953949
         ]
        },
        {
         "hovertemplate": "color=good<br>0=%{x}<br>1=%{y}<br>2=%{z}<extra></extra>",
         "legendgroup": "good",
         "marker": {
          "color": "#636efa",
          "symbol": "circle"
         },
         "mode": "markers",
         "name": "good",
         "scene": "scene",
         "showlegend": true,
         "type": "scatter3d",
         "x": [
          0.5068999528884888
         ],
         "y": [
          -0.08479471504688263
         ],
         "z": [
          -0.09553173184394836
         ]
        },
        {
         "hovertemplate": "color=two<br>0=%{x}<br>1=%{y}<br>2=%{z}<extra></extra>",
         "legendgroup": "two",
         "marker": {
          "color": "#EF553B",
          "symbol": "circle"
         },
         "mode": "markers",
         "name": "two",
         "scene": "scene",
         "showlegend": true,
         "type": "scatter3d",
         "x": [
          -0.1967094987630844
         ],
         "y": [
          0.5340904593467712
         ],
         "z": [
          -0.0948287844657898
         ]
        },
        {
         "hovertemplate": "color=brother<br>0=%{x}<br>1=%{y}<br>2=%{z}<extra></extra>",
         "legendgroup": "brother",
         "marker": {
          "color": "#00cc96",
          "symbol": "circle"
         },
         "mode": "markers",
         "name": "brother",
         "scene": "scene",
         "showlegend": true,
         "type": "scatter3d",
         "x": [
          0.5286804437637329
         ],
         "y": [
          0.43440207839012146
         ],
         "z": [
          0.42680060863494873
         ]
        },
        {
         "hovertemplate": "color=night<br>0=%{x}<br>1=%{y}<br>2=%{z}<extra></extra>",
         "legendgroup": "night",
         "marker": {
          "color": "#ab63fa",
          "symbol": "circle"
         },
         "mode": "markers",
         "name": "night",
         "scene": "scene",
         "showlegend": true,
         "type": "scatter3d",
         "x": [
          -0.0005231605609878898
         ],
         "y": [
          0.10615627467632294
         ],
         "z": [
          -0.1973109096288681
         ]
        },
        {
         "hovertemplate": "color=little<br>0=%{x}<br>1=%{y}<br>2=%{z}<extra></extra>",
         "legendgroup": "little",
         "marker": {
          "color": "#FFA15A",
          "symbol": "circle"
         },
         "mode": "markers",
         "name": "little",
         "scene": "scene",
         "showlegend": true,
         "type": "scatter3d",
         "x": [
          0.13513246178627014
         ],
         "y": [
          -0.1453535258769989
         ],
         "z": [
          0.1549835056066513
         ]
        },
        {
         "hovertemplate": "color=ll<br>0=%{x}<br>1=%{y}<br>2=%{z}<extra></extra>",
         "legendgroup": "ll",
         "marker": {
          "color": "#19d3f3",
          "symbol": "circle"
         },
         "mode": "markers",
         "name": "ll",
         "scene": "scene",
         "showlegend": true,
         "type": "scatter3d",
         "x": [
          0.29217764735221863
         ],
         "y": [
          -0.19096074998378754
         ],
         "z": [
          -0.13758783042430878
         ]
        },
        {
         "hovertemplate": "color=took<br>0=%{x}<br>1=%{y}<br>2=%{z}<extra></extra>",
         "legendgroup": "took",
         "marker": {
          "color": "#FF6692",
          "symbol": "circle"
         },
         "mode": "markers",
         "name": "took",
         "scene": "scene",
         "showlegend": true,
         "type": "scatter3d",
         "x": [
          0.004528649151325226
         ],
         "y": [
          0.08626885712146759
         ],
         "z": [
          0.31612706184387207
         ]
        },
        {
         "hovertemplate": "color=came<br>0=%{x}<br>1=%{y}<br>2=%{z}<extra></extra>",
         "legendgroup": "came",
         "marker": {
          "color": "#B6E880",
          "symbol": "circle"
         },
         "mode": "markers",
         "name": "came",
         "scene": "scene",
         "showlegend": true,
         "type": "scatter3d",
         "x": [
          -0.23521460592746735
         ],
         "y": [
          0.09297832101583481
         ],
         "z": [
          -0.1845410317182541
         ]
        },
        {
         "hovertemplate": "color=though<br>0=%{x}<br>1=%{y}<br>2=%{z}<extra></extra>",
         "legendgroup": "though",
         "marker": {
          "color": "#FF97FF",
          "symbol": "circle"
         },
         "mode": "markers",
         "name": "though",
         "scene": "scene",
         "showlegend": true,
         "type": "scatter3d",
         "x": [
          0.12218833714723587
         ],
         "y": [
          -0.14074458181858063
         ],
         "z": [
          -0.08616050332784653
         ]
        },
        {
         "hovertemplate": "color=say<br>0=%{x}<br>1=%{y}<br>2=%{z}<extra></extra>",
         "legendgroup": "say",
         "marker": {
          "color": "#FECB52",
          "symbol": "circle"
         },
         "mode": "markers",
         "name": "say",
         "scene": "scene",
         "showlegend": true,
         "type": "scatter3d",
         "x": [
          0.5961129069328308
         ],
         "y": [
          -0.19022122025489807
         ],
         "z": [
          0.03922668844461441
         ]
        },
        {
         "hovertemplate": "color=now<br>0=%{x}<br>1=%{y}<br>2=%{z}<extra></extra>",
         "legendgroup": "now",
         "marker": {
          "color": "#636efa",
          "symbol": "circle"
         },
         "mode": "markers",
         "name": "now",
         "scene": "scene",
         "showlegend": true,
         "type": "scatter3d",
         "x": [
          0.39595794677734375
         ],
         "y": [
          -0.2117622047662735
         ],
         "z": [
          -0.2817378044128418
         ]
        },
        {
         "hovertemplate": "color=three<br>0=%{x}<br>1=%{y}<br>2=%{z}<extra></extra>",
         "legendgroup": "three",
         "marker": {
          "color": "#EF553B",
          "symbol": "circle"
         },
         "mode": "markers",
         "name": "three",
         "scene": "scene",
         "showlegend": true,
         "type": "scatter3d",
         "x": [
          -0.06548371911048889
         ],
         "y": [
          0.6967392563819885
         ],
         "z": [
          -0.14271531999111176
         ]
        },
        {
         "hovertemplate": "color=what<br>0=%{x}<br>1=%{y}<br>2=%{z}<extra></extra>",
         "legendgroup": "what",
         "marker": {
          "color": "#00cc96",
          "symbol": "circle"
         },
         "mode": "markers",
         "name": "what",
         "scene": "scene",
         "showlegend": true,
         "type": "scatter3d",
         "x": [
          0.6768957376480103
         ],
         "y": [
          -0.12549597024917603
         ],
         "z": [
          -0.14073964953422546
         ]
        },
        {
         "hovertemplate": "color=away<br>0=%{x}<br>1=%{y}<br>2=%{z}<extra></extra>",
         "legendgroup": "away",
         "marker": {
          "color": "#ab63fa",
          "symbol": "circle"
         },
         "mode": "markers",
         "name": "away",
         "scene": "scene",
         "showlegend": true,
         "type": "scatter3d",
         "x": [
          -0.26398608088493347
         ],
         "y": [
          -0.21615074574947357
         ],
         "z": [
          0.02087324485182762
         ]
        },
        {
         "hovertemplate": "color=dead<br>0=%{x}<br>1=%{y}<br>2=%{z}<extra></extra>",
         "legendgroup": "dead",
         "marker": {
          "color": "#FFA15A",
          "symbol": "circle"
         },
         "mode": "markers",
         "name": "dead",
         "scene": "scene",
         "showlegend": true,
         "type": "scatter3d",
         "x": [
          0.0548592172563076
         ],
         "y": [
          0.0829864963889122
         ],
         "z": [
          -0.1074184700846672
         ]
        },
        {
         "hovertemplate": "color=my<br>0=%{x}<br>1=%{y}<br>2=%{z}<extra></extra>",
         "legendgroup": "my",
         "marker": {
          "color": "#19d3f3",
          "symbol": "circle"
         },
         "mode": "markers",
         "name": "my",
         "scene": "scene",
         "showlegend": true,
         "type": "scatter3d",
         "x": [
          0.5343682169914246
         ],
         "y": [
          0.19165605306625366
         ],
         "z": [
          0.28007301688194275
         ]
        },
        {
         "hovertemplate": "color=son<br>0=%{x}<br>1=%{y}<br>2=%{z}<extra></extra>",
         "legendgroup": "son",
         "marker": {
          "color": "#FF6692",
          "symbol": "circle"
         },
         "mode": "markers",
         "name": "son",
         "scene": "scene",
         "showlegend": true,
         "type": "scatter3d",
         "x": [
          0.4442412257194519
         ],
         "y": [
          0.6712809205055237
         ],
         "z": [
          0.5512007474899292
         ]
        },
        {
         "hovertemplate": "color=blood<br>0=%{x}<br>1=%{y}<br>2=%{z}<extra></extra>",
         "legendgroup": "blood",
         "marker": {
          "color": "#B6E880",
          "symbol": "circle"
         },
         "mode": "markers",
         "name": "blood",
         "scene": "scene",
         "showlegend": true,
         "type": "scatter3d",
         "x": [
          -0.2021808922290802
         ],
         "y": [
          -0.14919725060462952
         ],
         "z": [
          0.054388731718063354
         ]
        },
        {
         "hovertemplate": "color=take<br>0=%{x}<br>1=%{y}<br>2=%{z}<extra></extra>",
         "legendgroup": "take",
         "marker": {
          "color": "#FF97FF",
          "symbol": "circle"
         },
         "mode": "markers",
         "name": "take",
         "scene": "scene",
         "showlegend": true,
         "type": "scatter3d",
         "x": [
          0.47095873951911926
         ],
         "y": [
          0.11828320473432541
         ],
         "z": [
          -0.025363141670823097
         ]
        },
        {
         "hovertemplate": "color=go<br>0=%{x}<br>1=%{y}<br>2=%{z}<extra></extra>",
         "legendgroup": "go",
         "marker": {
          "color": "#FECB52",
          "symbol": "circle"
         },
         "mode": "markers",
         "name": "go",
         "scene": "scene",
         "showlegend": true,
         "type": "scatter3d",
         "x": [
          0.31376364827156067
         ],
         "y": [
          -0.21258489787578583
         ],
         "z": [
          -0.2266184687614441
         ]
        },
        {
         "hovertemplate": "color=your<br>0=%{x}<br>1=%{y}<br>2=%{z}<extra></extra>",
         "legendgroup": "your",
         "marker": {
          "color": "#636efa",
          "symbol": "circle"
         },
         "mode": "markers",
         "name": "your",
         "scene": "scene",
         "showlegend": true,
         "type": "scatter3d",
         "x": [
          0.3946174085140228
         ],
         "y": [
          0.18967333436012268
         ],
         "z": [
          0.16082794964313507
         ]
        },
        {
         "hovertemplate": "color=half<br>0=%{x}<br>1=%{y}<br>2=%{z}<extra></extra>",
         "legendgroup": "half",
         "marker": {
          "color": "#EF553B",
          "symbol": "circle"
         },
         "mode": "markers",
         "name": "half",
         "scene": "scene",
         "showlegend": true,
         "type": "scatter3d",
         "x": [
          -0.2686385214328766
         ],
         "y": [
          0.19418774545192719
         ],
         "z": [
          -0.1700802892446518
         ]
        },
        {
         "hovertemplate": "color=make<br>0=%{x}<br>1=%{y}<br>2=%{z}<extra></extra>",
         "legendgroup": "make",
         "marker": {
          "color": "#00cc96",
          "symbol": "circle"
         },
         "mode": "markers",
         "name": "make",
         "scene": "scene",
         "showlegend": true,
         "type": "scatter3d",
         "x": [
          0.48380476236343384
         ],
         "y": [
          -0.21461115777492523
         ],
         "z": [
          -0.1901300847530365
         ]
        },
        {
         "hovertemplate": "color=this<br>0=%{x}<br>1=%{y}<br>2=%{z}<extra></extra>",
         "legendgroup": "this",
         "marker": {
          "color": "#ab63fa",
          "symbol": "circle"
         },
         "mode": "markers",
         "name": "this",
         "scene": "scene",
         "showlegend": true,
         "type": "scatter3d",
         "x": [
          0.5413311123847961
         ],
         "y": [
          -0.07956356555223465
         ],
         "z": [
          -0.055134572088718414
         ]
        },
        {
         "hovertemplate": "color=arya<br>0=%{x}<br>1=%{y}<br>2=%{z}<extra></extra>",
         "legendgroup": "arya",
         "marker": {
          "color": "#FFA15A",
          "symbol": "circle"
         },
         "mode": "markers",
         "name": "arya",
         "scene": "scene",
         "showlegend": true,
         "type": "scatter3d",
         "x": [
          -0.08724801987409592
         ],
         "y": [
          -0.37784722447395325
         ],
         "z": [
          0.0963602215051651
         ]
        },
        {
         "hovertemplate": "color=saw<br>0=%{x}<br>1=%{y}<br>2=%{z}<extra></extra>",
         "legendgroup": "saw",
         "marker": {
          "color": "#19d3f3",
          "symbol": "circle"
         },
         "mode": "markers",
         "name": "saw",
         "scene": "scene",
         "showlegend": true,
         "type": "scatter3d",
         "x": [
          -0.28204435110092163
         ],
         "y": [
          -0.03565068170428276
         ],
         "z": [
          0.10170257836580276
         ]
        },
        {
         "hovertemplate": "color=all<br>0=%{x}<br>1=%{y}<br>2=%{z}<extra></extra>",
         "legendgroup": "all",
         "marker": {
          "color": "#FF6692",
          "symbol": "circle"
         },
         "mode": "markers",
         "name": "all",
         "scene": "scene",
         "showlegend": true,
         "type": "scatter3d",
         "x": [
          0.41568538546562195
         ],
         "y": [
          -0.033300258219242096
         ],
         "z": [
          -0.38511455059051514
         ]
        },
        {
         "hovertemplate": "color=day<br>0=%{x}<br>1=%{y}<br>2=%{z}<extra></extra>",
         "legendgroup": "day",
         "marker": {
          "color": "#B6E880",
          "symbol": "circle"
         },
         "mode": "markers",
         "name": "day",
         "scene": "scene",
         "showlegend": true,
         "type": "scatter3d",
         "x": [
          0.10547557473182678
         ],
         "y": [
          0.21128182113170624
         ],
         "z": [
          -0.23485004901885986
         ]
        },
        {
         "hovertemplate": "color=white<br>0=%{x}<br>1=%{y}<br>2=%{z}<extra></extra>",
         "legendgroup": "white",
         "marker": {
          "color": "#FF97FF",
          "symbol": "circle"
         },
         "mode": "markers",
         "name": "white",
         "scene": "scene",
         "showlegend": true,
         "type": "scatter3d",
         "x": [
          -0.3885118067264557
         ],
         "y": [
          0.485823392868042
         ],
         "z": [
          0.35722631216049194
         ]
        },
        {
         "hovertemplate": "color=jaime<br>0=%{x}<br>1=%{y}<br>2=%{z}<extra></extra>",
         "legendgroup": "jaime",
         "marker": {
          "color": "#FECB52",
          "symbol": "circle"
         },
         "mode": "markers",
         "name": "jaime",
         "scene": "scene",
         "showlegend": true,
         "type": "scatter3d",
         "x": [
          0.21637411415576935
         ],
         "y": [
          0.08091045171022415
         ],
         "z": [
          0.4106006920337677
         ]
        },
        {
         "hovertemplate": "color=first<br>0=%{x}<br>1=%{y}<br>2=%{z}<extra></extra>",
         "legendgroup": "first",
         "marker": {
          "color": "#636efa",
          "symbol": "circle"
         },
         "mode": "markers",
         "name": "first",
         "scene": "scene",
         "showlegend": true,
         "type": "scatter3d",
         "x": [
          0.19592776894569397
         ],
         "y": [
          0.3730728030204773
         ],
         "z": [
          -0.026244666427373886
         ]
        },
        {
         "hovertemplate": "color=look<br>0=%{x}<br>1=%{y}<br>2=%{z}<extra></extra>",
         "legendgroup": "look",
         "marker": {
          "color": "#EF553B",
          "symbol": "circle"
         },
         "mode": "markers",
         "name": "look",
         "scene": "scene",
         "showlegend": true,
         "type": "scatter3d",
         "x": [
          0.05533808097243309
         ],
         "y": [
          -0.27468451857566833
         ],
         "z": [
          0.2261509895324707
         ]
        },
        {
         "hovertemplate": "color=want<br>0=%{x}<br>1=%{y}<br>2=%{z}<extra></extra>",
         "legendgroup": "want",
         "marker": {
          "color": "#00cc96",
          "symbol": "circle"
         },
         "mode": "markers",
         "name": "want",
         "scene": "scene",
         "showlegend": true,
         "type": "scatter3d",
         "x": [
          0.5282881855964661
         ],
         "y": [
          -0.24495606124401093
         ],
         "z": [
          -0.1007855162024498
         ]
        },
        {
         "hovertemplate": "color=much<br>0=%{x}<br>1=%{y}<br>2=%{z}<extra></extra>",
         "legendgroup": "much",
         "marker": {
          "color": "#ab63fa",
          "symbol": "circle"
         },
         "mode": "markers",
         "name": "much",
         "scene": "scene",
         "showlegend": true,
         "type": "scatter3d",
         "x": [
          0.47445791959762573
         ],
         "y": [
          -0.22915929555892944
         ],
         "z": [
          -0.16985470056533813
         ]
        },
        {
         "hovertemplate": "color=enough<br>0=%{x}<br>1=%{y}<br>2=%{z}<extra></extra>",
         "legendgroup": "enough",
         "marker": {
          "color": "#FFA15A",
          "symbol": "circle"
         },
         "mode": "markers",
         "name": "enough",
         "scene": "scene",
         "showlegend": true,
         "type": "scatter3d",
         "x": [
          0.18571874499320984
         ],
         "y": [
          -0.14779168367385864
         ],
         "z": [
          -0.2886149287223816
         ]
        },
        {
         "hovertemplate": "color=sword<br>0=%{x}<br>1=%{y}<br>2=%{z}<extra></extra>",
         "legendgroup": "sword",
         "marker": {
          "color": "#19d3f3",
          "symbol": "circle"
         },
         "mode": "markers",
         "name": "sword",
         "scene": "scene",
         "showlegend": true,
         "type": "scatter3d",
         "x": [
          -0.10386262089014053
         ],
         "y": [
          0.09561125189065933
         ],
         "z": [
          0.3638330399990082
         ]
        },
        {
         "hovertemplate": "color=tell<br>0=%{x}<br>1=%{y}<br>2=%{z}<extra></extra>",
         "legendgroup": "tell",
         "marker": {
          "color": "#FF6692",
          "symbol": "circle"
         },
         "mode": "markers",
         "name": "tell",
         "scene": "scene",
         "showlegend": true,
         "type": "scatter3d",
         "x": [
          0.6797049045562744
         ],
         "y": [
          -0.1842363029718399
         ],
         "z": [
          -0.0390424020588398
         ]
        },
        {
         "hovertemplate": "color=girl<br>0=%{x}<br>1=%{y}<br>2=%{z}<extra></extra>",
         "legendgroup": "girl",
         "marker": {
          "color": "#B6E880",
          "symbol": "circle"
         },
         "mode": "markers",
         "name": "girl",
         "scene": "scene",
         "showlegend": true,
         "type": "scatter3d",
         "x": [
          0.2563066780567169
         ],
         "y": [
          0.006383446976542473
         ],
         "z": [
          0.3826986253261566
         ]
        },
        {
         "hovertemplate": "color=bran<br>0=%{x}<br>1=%{y}<br>2=%{z}<extra></extra>",
         "legendgroup": "bran",
         "marker": {
          "color": "#FF97FF",
          "symbol": "circle"
         },
         "mode": "markers",
         "name": "bran",
         "scene": "scene",
         "showlegend": true,
         "type": "scatter3d",
         "x": [
          -0.04724080488085747
         ],
         "y": [
          -0.3241719603538513
         ],
         "z": [
          0.05526789650321007
         ]
        },
        {
         "hovertemplate": "color=great<br>0=%{x}<br>1=%{y}<br>2=%{z}<extra></extra>",
         "legendgroup": "great",
         "marker": {
          "color": "#FECB52",
          "symbol": "circle"
         },
         "mode": "markers",
         "name": "great",
         "scene": "scene",
         "showlegend": true,
         "type": "scatter3d",
         "x": [
          -0.16521213948726654
         ],
         "y": [
          0.7760477066040039
         ],
         "z": [
          -0.09180522710084915
         ]
        }
       ],
       "layout": {
        "legend": {
         "title": {
          "text": "color"
         },
         "tracegroupgap": 0
        },
        "margin": {
         "t": 60
        },
        "scene": {
         "domain": {
          "x": [
           0,
           1
          ],
          "y": [
           0,
           1
          ]
         },
         "xaxis": {
          "title": {
           "text": "0"
          }
         },
         "yaxis": {
          "title": {
           "text": "1"
          }
         },
         "zaxis": {
          "title": {
           "text": "2"
          }
         }
        },
        "template": {
         "data": {
          "bar": [
           {
            "error_x": {
             "color": "#2a3f5f"
            },
            "error_y": {
             "color": "#2a3f5f"
            },
            "marker": {
             "line": {
              "color": "#E5ECF6",
              "width": 0.5
             },
             "pattern": {
              "fillmode": "overlay",
              "size": 10,
              "solidity": 0.2
             }
            },
            "type": "bar"
           }
          ],
          "barpolar": [
           {
            "marker": {
             "line": {
              "color": "#E5ECF6",
              "width": 0.5
             },
             "pattern": {
              "fillmode": "overlay",
              "size": 10,
              "solidity": 0.2
             }
            },
            "type": "barpolar"
           }
          ],
          "carpet": [
           {
            "aaxis": {
             "endlinecolor": "#2a3f5f",
             "gridcolor": "white",
             "linecolor": "white",
             "minorgridcolor": "white",
             "startlinecolor": "#2a3f5f"
            },
            "baxis": {
             "endlinecolor": "#2a3f5f",
             "gridcolor": "white",
             "linecolor": "white",
             "minorgridcolor": "white",
             "startlinecolor": "#2a3f5f"
            },
            "type": "carpet"
           }
          ],
          "choropleth": [
           {
            "colorbar": {
             "outlinewidth": 0,
             "ticks": ""
            },
            "type": "choropleth"
           }
          ],
          "contour": [
           {
            "colorbar": {
             "outlinewidth": 0,
             "ticks": ""
            },
            "colorscale": [
             [
              0,
              "#0d0887"
             ],
             [
              0.1111111111111111,
              "#46039f"
             ],
             [
              0.2222222222222222,
              "#7201a8"
             ],
             [
              0.3333333333333333,
              "#9c179e"
             ],
             [
              0.4444444444444444,
              "#bd3786"
             ],
             [
              0.5555555555555556,
              "#d8576b"
             ],
             [
              0.6666666666666666,
              "#ed7953"
             ],
             [
              0.7777777777777778,
              "#fb9f3a"
             ],
             [
              0.8888888888888888,
              "#fdca26"
             ],
             [
              1,
              "#f0f921"
             ]
            ],
            "type": "contour"
           }
          ],
          "contourcarpet": [
           {
            "colorbar": {
             "outlinewidth": 0,
             "ticks": ""
            },
            "type": "contourcarpet"
           }
          ],
          "heatmap": [
           {
            "colorbar": {
             "outlinewidth": 0,
             "ticks": ""
            },
            "colorscale": [
             [
              0,
              "#0d0887"
             ],
             [
              0.1111111111111111,
              "#46039f"
             ],
             [
              0.2222222222222222,
              "#7201a8"
             ],
             [
              0.3333333333333333,
              "#9c179e"
             ],
             [
              0.4444444444444444,
              "#bd3786"
             ],
             [
              0.5555555555555556,
              "#d8576b"
             ],
             [
              0.6666666666666666,
              "#ed7953"
             ],
             [
              0.7777777777777778,
              "#fb9f3a"
             ],
             [
              0.8888888888888888,
              "#fdca26"
             ],
             [
              1,
              "#f0f921"
             ]
            ],
            "type": "heatmap"
           }
          ],
          "heatmapgl": [
           {
            "colorbar": {
             "outlinewidth": 0,
             "ticks": ""
            },
            "colorscale": [
             [
              0,
              "#0d0887"
             ],
             [
              0.1111111111111111,
              "#46039f"
             ],
             [
              0.2222222222222222,
              "#7201a8"
             ],
             [
              0.3333333333333333,
              "#9c179e"
             ],
             [
              0.4444444444444444,
              "#bd3786"
             ],
             [
              0.5555555555555556,
              "#d8576b"
             ],
             [
              0.6666666666666666,
              "#ed7953"
             ],
             [
              0.7777777777777778,
              "#fb9f3a"
             ],
             [
              0.8888888888888888,
              "#fdca26"
             ],
             [
              1,
              "#f0f921"
             ]
            ],
            "type": "heatmapgl"
           }
          ],
          "histogram": [
           {
            "marker": {
             "pattern": {
              "fillmode": "overlay",
              "size": 10,
              "solidity": 0.2
             }
            },
            "type": "histogram"
           }
          ],
          "histogram2d": [
           {
            "colorbar": {
             "outlinewidth": 0,
             "ticks": ""
            },
            "colorscale": [
             [
              0,
              "#0d0887"
             ],
             [
              0.1111111111111111,
              "#46039f"
             ],
             [
              0.2222222222222222,
              "#7201a8"
             ],
             [
              0.3333333333333333,
              "#9c179e"
             ],
             [
              0.4444444444444444,
              "#bd3786"
             ],
             [
              0.5555555555555556,
              "#d8576b"
             ],
             [
              0.6666666666666666,
              "#ed7953"
             ],
             [
              0.7777777777777778,
              "#fb9f3a"
             ],
             [
              0.8888888888888888,
              "#fdca26"
             ],
             [
              1,
              "#f0f921"
             ]
            ],
            "type": "histogram2d"
           }
          ],
          "histogram2dcontour": [
           {
            "colorbar": {
             "outlinewidth": 0,
             "ticks": ""
            },
            "colorscale": [
             [
              0,
              "#0d0887"
             ],
             [
              0.1111111111111111,
              "#46039f"
             ],
             [
              0.2222222222222222,
              "#7201a8"
             ],
             [
              0.3333333333333333,
              "#9c179e"
             ],
             [
              0.4444444444444444,
              "#bd3786"
             ],
             [
              0.5555555555555556,
              "#d8576b"
             ],
             [
              0.6666666666666666,
              "#ed7953"
             ],
             [
              0.7777777777777778,
              "#fb9f3a"
             ],
             [
              0.8888888888888888,
              "#fdca26"
             ],
             [
              1,
              "#f0f921"
             ]
            ],
            "type": "histogram2dcontour"
           }
          ],
          "mesh3d": [
           {
            "colorbar": {
             "outlinewidth": 0,
             "ticks": ""
            },
            "type": "mesh3d"
           }
          ],
          "parcoords": [
           {
            "line": {
             "colorbar": {
              "outlinewidth": 0,
              "ticks": ""
             }
            },
            "type": "parcoords"
           }
          ],
          "pie": [
           {
            "automargin": true,
            "type": "pie"
           }
          ],
          "scatter": [
           {
            "fillpattern": {
             "fillmode": "overlay",
             "size": 10,
             "solidity": 0.2
            },
            "type": "scatter"
           }
          ],
          "scatter3d": [
           {
            "line": {
             "colorbar": {
              "outlinewidth": 0,
              "ticks": ""
             }
            },
            "marker": {
             "colorbar": {
              "outlinewidth": 0,
              "ticks": ""
             }
            },
            "type": "scatter3d"
           }
          ],
          "scattercarpet": [
           {
            "marker": {
             "colorbar": {
              "outlinewidth": 0,
              "ticks": ""
             }
            },
            "type": "scattercarpet"
           }
          ],
          "scattergeo": [
           {
            "marker": {
             "colorbar": {
              "outlinewidth": 0,
              "ticks": ""
             }
            },
            "type": "scattergeo"
           }
          ],
          "scattergl": [
           {
            "marker": {
             "colorbar": {
              "outlinewidth": 0,
              "ticks": ""
             }
            },
            "type": "scattergl"
           }
          ],
          "scattermapbox": [
           {
            "marker": {
             "colorbar": {
              "outlinewidth": 0,
              "ticks": ""
             }
            },
            "type": "scattermapbox"
           }
          ],
          "scatterpolar": [
           {
            "marker": {
             "colorbar": {
              "outlinewidth": 0,
              "ticks": ""
             }
            },
            "type": "scatterpolar"
           }
          ],
          "scatterpolargl": [
           {
            "marker": {
             "colorbar": {
              "outlinewidth": 0,
              "ticks": ""
             }
            },
            "type": "scatterpolargl"
           }
          ],
          "scatterternary": [
           {
            "marker": {
             "colorbar": {
              "outlinewidth": 0,
              "ticks": ""
             }
            },
            "type": "scatterternary"
           }
          ],
          "surface": [
           {
            "colorbar": {
             "outlinewidth": 0,
             "ticks": ""
            },
            "colorscale": [
             [
              0,
              "#0d0887"
             ],
             [
              0.1111111111111111,
              "#46039f"
             ],
             [
              0.2222222222222222,
              "#7201a8"
             ],
             [
              0.3333333333333333,
              "#9c179e"
             ],
             [
              0.4444444444444444,
              "#bd3786"
             ],
             [
              0.5555555555555556,
              "#d8576b"
             ],
             [
              0.6666666666666666,
              "#ed7953"
             ],
             [
              0.7777777777777778,
              "#fb9f3a"
             ],
             [
              0.8888888888888888,
              "#fdca26"
             ],
             [
              1,
              "#f0f921"
             ]
            ],
            "type": "surface"
           }
          ],
          "table": [
           {
            "cells": {
             "fill": {
              "color": "#EBF0F8"
             },
             "line": {
              "color": "white"
             }
            },
            "header": {
             "fill": {
              "color": "#C8D4E3"
             },
             "line": {
              "color": "white"
             }
            },
            "type": "table"
           }
          ]
         },
         "layout": {
          "annotationdefaults": {
           "arrowcolor": "#2a3f5f",
           "arrowhead": 0,
           "arrowwidth": 1
          },
          "autotypenumbers": "strict",
          "coloraxis": {
           "colorbar": {
            "outlinewidth": 0,
            "ticks": ""
           }
          },
          "colorscale": {
           "diverging": [
            [
             0,
             "#8e0152"
            ],
            [
             0.1,
             "#c51b7d"
            ],
            [
             0.2,
             "#de77ae"
            ],
            [
             0.3,
             "#f1b6da"
            ],
            [
             0.4,
             "#fde0ef"
            ],
            [
             0.5,
             "#f7f7f7"
            ],
            [
             0.6,
             "#e6f5d0"
            ],
            [
             0.7,
             "#b8e186"
            ],
            [
             0.8,
             "#7fbc41"
            ],
            [
             0.9,
             "#4d9221"
            ],
            [
             1,
             "#276419"
            ]
           ],
           "sequential": [
            [
             0,
             "#0d0887"
            ],
            [
             0.1111111111111111,
             "#46039f"
            ],
            [
             0.2222222222222222,
             "#7201a8"
            ],
            [
             0.3333333333333333,
             "#9c179e"
            ],
            [
             0.4444444444444444,
             "#bd3786"
            ],
            [
             0.5555555555555556,
             "#d8576b"
            ],
            [
             0.6666666666666666,
             "#ed7953"
            ],
            [
             0.7777777777777778,
             "#fb9f3a"
            ],
            [
             0.8888888888888888,
             "#fdca26"
            ],
            [
             1,
             "#f0f921"
            ]
           ],
           "sequentialminus": [
            [
             0,
             "#0d0887"
            ],
            [
             0.1111111111111111,
             "#46039f"
            ],
            [
             0.2222222222222222,
             "#7201a8"
            ],
            [
             0.3333333333333333,
             "#9c179e"
            ],
            [
             0.4444444444444444,
             "#bd3786"
            ],
            [
             0.5555555555555556,
             "#d8576b"
            ],
            [
             0.6666666666666666,
             "#ed7953"
            ],
            [
             0.7777777777777778,
             "#fb9f3a"
            ],
            [
             0.8888888888888888,
             "#fdca26"
            ],
            [
             1,
             "#f0f921"
            ]
           ]
          },
          "colorway": [
           "#636efa",
           "#EF553B",
           "#00cc96",
           "#ab63fa",
           "#FFA15A",
           "#19d3f3",
           "#FF6692",
           "#B6E880",
           "#FF97FF",
           "#FECB52"
          ],
          "font": {
           "color": "#2a3f5f"
          },
          "geo": {
           "bgcolor": "white",
           "lakecolor": "white",
           "landcolor": "#E5ECF6",
           "showlakes": true,
           "showland": true,
           "subunitcolor": "white"
          },
          "hoverlabel": {
           "align": "left"
          },
          "hovermode": "closest",
          "mapbox": {
           "style": "light"
          },
          "paper_bgcolor": "white",
          "plot_bgcolor": "#E5ECF6",
          "polar": {
           "angularaxis": {
            "gridcolor": "white",
            "linecolor": "white",
            "ticks": ""
           },
           "bgcolor": "#E5ECF6",
           "radialaxis": {
            "gridcolor": "white",
            "linecolor": "white",
            "ticks": ""
           }
          },
          "scene": {
           "xaxis": {
            "backgroundcolor": "#E5ECF6",
            "gridcolor": "white",
            "gridwidth": 2,
            "linecolor": "white",
            "showbackground": true,
            "ticks": "",
            "zerolinecolor": "white"
           },
           "yaxis": {
            "backgroundcolor": "#E5ECF6",
            "gridcolor": "white",
            "gridwidth": 2,
            "linecolor": "white",
            "showbackground": true,
            "ticks": "",
            "zerolinecolor": "white"
           },
           "zaxis": {
            "backgroundcolor": "#E5ECF6",
            "gridcolor": "white",
            "gridwidth": 2,
            "linecolor": "white",
            "showbackground": true,
            "ticks": "",
            "zerolinecolor": "white"
           }
          },
          "shapedefaults": {
           "line": {
            "color": "#2a3f5f"
           }
          },
          "ternary": {
           "aaxis": {
            "gridcolor": "white",
            "linecolor": "white",
            "ticks": ""
           },
           "baxis": {
            "gridcolor": "white",
            "linecolor": "white",
            "ticks": ""
           },
           "bgcolor": "#E5ECF6",
           "caxis": {
            "gridcolor": "white",
            "linecolor": "white",
            "ticks": ""
           }
          },
          "title": {
           "x": 0.05
          },
          "xaxis": {
           "automargin": true,
           "gridcolor": "white",
           "linecolor": "white",
           "ticks": "",
           "title": {
            "standoff": 15
           },
           "zerolinecolor": "white",
           "zerolinewidth": 2
          },
          "yaxis": {
           "automargin": true,
           "gridcolor": "white",
           "linecolor": "white",
           "ticks": "",
           "title": {
            "standoff": 15
           },
           "zerolinecolor": "white",
           "zerolinewidth": 2
          }
         }
        }
       }
      }
     },
     "metadata": {},
     "output_type": "display_data"
    }
   ],
   "source": [
    "import plotly.express as px\n",
    "fig = px.scatter_3d(X[:100],x=0,y=1,z=2,color=y[:100])\n",
    "fig.show()"
   ]
  },
  {
   "cell_type": "code",
   "execution_count": null,
   "metadata": {},
   "outputs": [],
   "source": []
  }
 ],
 "metadata": {
  "kernelspec": {
   "display_name": "Python 3",
   "language": "python",
   "name": "python3"
  },
  "language_info": {
   "codemirror_mode": {
    "name": "ipython",
    "version": 3
   },
   "file_extension": ".py",
   "mimetype": "text/x-python",
   "name": "python",
   "nbconvert_exporter": "python",
   "pygments_lexer": "ipython3",
   "version": "3.10.4"
  }
 },
 "nbformat": 4,
 "nbformat_minor": 2
}
