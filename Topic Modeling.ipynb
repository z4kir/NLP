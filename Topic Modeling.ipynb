{
 "cells": [
  {
   "cell_type": "markdown",
   "id": "1874a222-d6d7-4d45-8ee7-4b0f6dcd2aa4",
   "metadata": {},
   "source": [
    "## What is Topic Modeling ?"
   ]
  },
  {
   "cell_type": "markdown",
   "id": "07cc8011-0aa4-4ee3-bd0c-65b779c5236a",
   "metadata": {},
   "source": [
    "Topic modeling is type of unsupervised(wihtout label) machine learning that identifies the hidden topics in a collection of text documents"
   ]
  },
  {
   "cell_type": "markdown",
   "id": "cd88ae84-4c80-418c-bdec-2bf947c30ce1",
   "metadata": {},
   "source": [
    "## Types of Topic Modeling"
   ]
  },
  {
   "cell_type": "markdown",
   "id": "77cf971e-83a4-47e3-bd24-ba61d1e91e6a",
   "metadata": {},
   "source": [
    "##### Latent Dirichlet Allocation(LDA)"
   ]
  },
  {
   "cell_type": "markdown",
   "id": "48c64f7c-bdcc-4e7d-b2a5-6c63871d4102",
   "metadata": {},
   "source": [
    "##### Non-Negative Matrix Factorization(NMF)"
   ]
  },
  {
   "cell_type": "markdown",
   "id": "fd5de048-baba-4c06-a1f3-155583bf4b84",
   "metadata": {},
   "source": [
    "## Latent Dirichlet Allocation(LDA)"
   ]
  },
  {
   "cell_type": "code",
   "execution_count": 15,
   "id": "24db3d3a-5d01-44ce-b6bb-251fa7bbe8ee",
   "metadata": {},
   "outputs": [],
   "source": [
    "import pandas as pd\n",
    "from sklearn.feature_extraction.text import TfidfVectorizer\n",
    "from sklearn.decomposition import LatentDirichletAllocation\n",
    "import spacy\n",
    "import re\n",
    "\n",
    "#Load the spaCy english model\n",
    "nlp = spacy.load(\"en_core_web_sm\")\n",
    "\n",
    "#Sample manual documnet\n",
    "documents = [\n",
    "    \"Football is a family of team sports that involve, to varying degrees, kicking a ball to score a goal. Unqualified, the word football normally means the form of football that is the most popular where the word is used. Sports commonly called football include association football (known as soccer in Australia, Canada, South Africa, and the United States; in Ireland and New Zealand, the game is referred to as either 'football' or 'soccer', depending on the person using the term); Australian rules football; Gaelic football; gridiron football (specifically American football, Arena football, or Canadian football); International rules football; rugby league football; and rugby union football.[1] These various forms of football share, to varying degrees, common origins and are known as 'football codes'.\",\n",
    "    \"Cricket is a bat-and-ball game played between two teams of eleven players on a field at the centre of which is a 22-yard (20-metre) pitch with a wicket at each end, each comprising two bails balanced on three stumps. The batting side scores runs by striking the ball bowled at one of the wickets with the bat and then running between the wickets, while the bowling and fielding side tries to prevent this (by preventing the ball from leaving the field, and getting the ball to either wicket) and dismiss each batter (so they are 'out'). Means of dismissal include being bowled, when the ball hits the stumps and dislodges the bails, and by the fielding side either catching the ball after it is hit by the bat, but before it hits the ground, or hitting a wicket with the ball before a batter can cross the crease in front of the wicket. When ten batters have been dismissed, the innings ends and the teams swap roles. The game is adjudicated by two umpires, aided by a third umpire and match referee in international matches. They communicate with two off-field scorers who record the match's statistical information.\"\n",
    "]"
   ]
  },
  {
   "cell_type": "code",
   "execution_count": 16,
   "id": "c013f489-8770-4f7b-8850-b4eb28ad7de7",
   "metadata": {},
   "outputs": [
    {
     "data": {
      "text/html": [
       "<div>\n",
       "<style scoped>\n",
       "    .dataframe tbody tr th:only-of-type {\n",
       "        vertical-align: middle;\n",
       "    }\n",
       "\n",
       "    .dataframe tbody tr th {\n",
       "        vertical-align: top;\n",
       "    }\n",
       "\n",
       "    .dataframe thead th {\n",
       "        text-align: right;\n",
       "    }\n",
       "</style>\n",
       "<table border=\"1\" class=\"dataframe\">\n",
       "  <thead>\n",
       "    <tr style=\"text-align: right;\">\n",
       "      <th></th>\n",
       "      <th>text</th>\n",
       "    </tr>\n",
       "  </thead>\n",
       "  <tbody>\n",
       "    <tr>\n",
       "      <th>0</th>\n",
       "      <td>Football is a family of team sports that involve, to varying degrees, kicking a ball to score a ...</td>\n",
       "    </tr>\n",
       "    <tr>\n",
       "      <th>1</th>\n",
       "      <td>Cricket is a bat-and-ball game played between two teams of eleven players on a field at the cent...</td>\n",
       "    </tr>\n",
       "  </tbody>\n",
       "</table>\n",
       "</div>"
      ],
      "text/plain": [
       "                                                                                                  text\n",
       "0  Football is a family of team sports that involve, to varying degrees, kicking a ball to score a ...\n",
       "1  Cricket is a bat-and-ball game played between two teams of eleven players on a field at the cent..."
      ]
     },
     "execution_count": 16,
     "metadata": {},
     "output_type": "execute_result"
    }
   ],
   "source": [
    "#create a DataFrame to hold the manual documents\n",
    "pd.set_option(\"display.max_colwidth\",100)\n",
    "data = pd.DataFrame({\"text\": documents})\n",
    "data"
   ]
  },
  {
   "cell_type": "code",
   "execution_count": 19,
   "id": "61bd1f5b-c997-4e8f-97c0-a5268290eac0",
   "metadata": {},
   "outputs": [],
   "source": [
    "#preprocessing: Tokenization, stopwords removal, and lemmatization using spaCy\n",
    "def preprocess(text):\n",
    "    doc = nlp(text)\n",
    "    processed_tokens = [token.lemma_ for token in doc if not token.is_stop and token.is_alpha]\n",
    "    return ' '.join(processed_tokens)"
   ]
  },
  {
   "cell_type": "code",
   "execution_count": 20,
   "id": "2510320b-47a7-46a5-af16-84c4459bd138",
   "metadata": {},
   "outputs": [
    {
     "data": {
      "text/html": [
       "<div>\n",
       "<style scoped>\n",
       "    .dataframe tbody tr th:only-of-type {\n",
       "        vertical-align: middle;\n",
       "    }\n",
       "\n",
       "    .dataframe tbody tr th {\n",
       "        vertical-align: top;\n",
       "    }\n",
       "\n",
       "    .dataframe thead th {\n",
       "        text-align: right;\n",
       "    }\n",
       "</style>\n",
       "<table border=\"1\" class=\"dataframe\">\n",
       "  <thead>\n",
       "    <tr style=\"text-align: right;\">\n",
       "      <th></th>\n",
       "      <th>text</th>\n",
       "      <th>processed_text</th>\n",
       "    </tr>\n",
       "  </thead>\n",
       "  <tbody>\n",
       "    <tr>\n",
       "      <th>0</th>\n",
       "      <td>Football is a family of team sports that involve, to varying degrees, kicking a ball to score a ...</td>\n",
       "      <td>football family team sport involve vary degree kick ball score goal unqualified word football no...</td>\n",
       "    </tr>\n",
       "    <tr>\n",
       "      <th>1</th>\n",
       "      <td>Cricket is a bat-and-ball game played between two teams of eleven players on a field at the cent...</td>\n",
       "      <td>cricket bat ball game play team player field centre yard metre pitch wicket end comprise bail ba...</td>\n",
       "    </tr>\n",
       "  </tbody>\n",
       "</table>\n",
       "</div>"
      ],
      "text/plain": [
       "                                                                                                  text  \\\n",
       "0  Football is a family of team sports that involve, to varying degrees, kicking a ball to score a ...   \n",
       "1  Cricket is a bat-and-ball game played between two teams of eleven players on a field at the cent...   \n",
       "\n",
       "                                                                                        processed_text  \n",
       "0  football family team sport involve vary degree kick ball score goal unqualified word football no...  \n",
       "1  cricket bat ball game play team player field centre yard metre pitch wicket end comprise bail ba...  "
      ]
     },
     "execution_count": 20,
     "metadata": {},
     "output_type": "execute_result"
    }
   ],
   "source": [
    "data[\"processed_text\"] = data[\"text\"].apply(preprocess)\n",
    "data"
   ]
  },
  {
   "cell_type": "markdown",
   "id": "1ebc319a-db40-47ba-8f74-3cf1f339741f",
   "metadata": {},
   "source": [
    "## Create TF-IDF Vecteroizer and Fit the model"
   ]
  },
  {
   "cell_type": "code",
   "execution_count": 22,
   "id": "1d8e2dc2-9bbf-48f7-ae59-48ae1befbda2",
   "metadata": {},
   "outputs": [
    {
     "name": "stdout",
     "output_type": "stream",
     "text": [
      "[[0.50324437 0.50418424 0.50324437 0.50418424 0.50418424 0.50418424\n",
      "  0.50418424 0.50418424 0.50511896 0.50324437 0.50817936 0.50626521\n",
      "  0.50626521 0.50324437 0.50511896 0.50324437 0.50418424 0.50418424\n",
      "  0.50418424 0.50324437 0.50324437 0.50418424 0.50418424 0.50418424\n",
      "  0.50324437 0.50324437 0.50324437 0.50324437 0.50324437 0.50702125\n",
      "  0.50418424 0.50324437 0.50511896 0.50324437 0.50511896 0.50418424\n",
      "  0.50626521 0.50511896 0.514618   0.50702125 0.50418424 0.50592486\n",
      "  0.50324437 0.50418424 0.50418424 0.50324437 0.50700331 0.50480607\n",
      "  0.50324437 0.50324437 0.50480607 0.50418424 0.50418424 0.50418424\n",
      "  0.50702125 0.50418424 0.50324437 0.50626521 0.50480607 0.50324437\n",
      "  0.50418424 0.50418424 0.50418424 0.50418424 0.50324437 0.50324437\n",
      "  0.50324437 0.50418424 0.50511896 0.50324437 0.50418424 0.50324437\n",
      "  0.50324437 0.50702125 0.50702125 0.50511896 0.50480607 0.50324437\n",
      "  0.50418424 0.50702125 0.50418424 0.50418424 0.50702125 0.50418424\n",
      "  0.50324437 0.50324437 0.50511896 0.50324437 0.50592486 0.50418424\n",
      "  0.50324437 0.50511896 0.50418424 0.50418424 0.50418424 0.50702125\n",
      "  0.50784771 0.50702125 0.50324437 0.50418424]\n",
      " [0.56990618 0.55073564 0.56990618 0.55073564 0.55073564 0.55073564\n",
      "  0.55073564 0.55073564 0.64118213 0.56990618 0.89522709 0.71318642\n",
      "  0.71318642 0.56990618 0.64118213 0.56990618 0.55073564 0.55073564\n",
      "  0.55073564 0.56990618 0.56990618 0.55073564 0.55073564 0.55073564\n",
      "  0.56990618 0.56990618 0.56990618 0.56990618 0.56990618 0.60281852\n",
      "  0.55073564 0.56990618 0.64118213 0.56990618 0.64118213 0.55073564\n",
      "  0.71318642 0.64118213 1.36410013 0.60281852 0.55073564 0.63724552\n",
      "  0.56990618 0.55073564 0.55073564 0.56990618 0.78559887 0.5863171\n",
      "  0.56990618 0.56990618 0.5863171  0.55073564 0.55073564 0.55073564\n",
      "  0.60281852 0.55073564 0.56990618 0.71318642 0.5863171  0.56990618\n",
      "  0.55073564 0.55073564 0.55073564 0.55073564 0.56990618 0.56990618\n",
      "  0.56990618 0.55073564 0.64118213 0.56990618 0.55073564 0.56990618\n",
      "  0.56990618 0.60281852 0.60281852 0.64118213 0.5863171  0.56990618\n",
      "  0.55073564 0.60281852 0.55073564 0.55073564 0.60281852 0.55073564\n",
      "  0.56990618 0.56990618 0.64118213 0.56990618 0.63724552 0.55073564\n",
      "  0.56990618 0.64118213 0.55073564 0.55073564 0.55073564 0.60281852\n",
      "  0.93105555 0.60281852 0.56990618 0.55073564]]\n"
     ]
    }
   ],
   "source": [
    "#Create TF-IDF Vector\n",
    "vectorizer = TfidfVectorizer()\n",
    "\n",
    "#transform the manual documnets into TF-IDF vectors\n",
    "X = vectorizer.fit_transform(data[\"processed_text\"])\n",
    "\n",
    "# Create A latent Dirichlet Allocation model\n",
    "lda = LatentDirichletAllocation(n_components=2)\n",
    "\n",
    "#Fit the model to the TF-IDF vectors\n",
    "lda.fit(X)\n",
    "# print the topics\n",
    "print(lda.components_)"
   ]
  },
  {
   "cell_type": "markdown",
   "id": "6f039d4c-73e3-4a79-899c-94b4e9be0403",
   "metadata": {},
   "source": [
    "## Print the Topic and thier associated words"
   ]
  },
  {
   "cell_type": "code",
   "execution_count": null,
   "id": "9cad3d4b-135a-48e7-83e6-a414a7f58f18",
   "metadata": {},
   "outputs": [],
   "source": [
    "for idx, topic in enumerate(lda.components_):\n",
    "    print(f\"Topic {idx + 1}:\")\n",
    "    #Get the top 5 words with highest weights for this topic\n",
    "    top_words_idx = topic.argsort()[-5:][::-1]\n",
    "    top_words = [vectorizer.get_feature_names_out()[i] for in top_words_idx]\n",
    "    "
   ]
  }
 ],
 "metadata": {
  "kernelspec": {
   "display_name": "Python 3 (ipykernel)",
   "language": "python",
   "name": "python3"
  },
  "language_info": {
   "codemirror_mode": {
    "name": "ipython",
    "version": 3
   },
   "file_extension": ".py",
   "mimetype": "text/x-python",
   "name": "python",
   "nbconvert_exporter": "python",
   "pygments_lexer": "ipython3",
   "version": "3.10.4"
  }
 },
 "nbformat": 4,
 "nbformat_minor": 5
}
